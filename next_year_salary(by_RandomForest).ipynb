{
 "cells": [
  {
   "cell_type": "code",
   "execution_count": 33,
   "metadata": {},
   "outputs": [],
   "source": [
    "# matplotlib 한글 출력 가능하도록 만들기\n",
    "from matplotlib import font_manager, rc\n",
    "\n",
    "font_name = font_manager.FontProperties(fname=\"c:/Windows/Fonts/gulim.ttc\").get_name()\n",
    "rc('font', family=font_name)\n",
    "\n",
    "# 데이터 분석 모듈\n",
    "import numpy as np\n",
    "import pandas as pd\n",
    "import seaborn as sns\n",
    "from matplotlib import pyplot as plt"
   ]
  },
  {
   "cell_type": "code",
   "execution_count": 2,
   "metadata": {},
   "outputs": [],
   "source": [
    "# third_crawler로 만든 데이터 로드\n",
    "df = pd.read_csv('data/statiz_final.csv')\n",
    "\n",
    "# 해당 데이터셋 선수명으로 정렬 및 인덱스 정리\n",
    "df = df.sort_values(['선수'])\n",
    "df = df.reset_index(drop=True)\n",
    "del df['Unnamed: 0']\n",
    "df.drop([211,673,1311,1312,33,51,386,387,488,697,1041,1145,383,384,385], inplace=True)"
   ]
  },
  {
   "cell_type": "code",
   "execution_count": 5,
   "metadata": {},
   "outputs": [],
   "source": [
    "df['연봉'] = df['연봉'].astype(int)\n",
    "# 해당 데이터셋 선수명으로 정렬 및 인덱스 정리\n",
    "df = df.sort_values(['선수'])\n",
    "df = df.reset_index(drop=True)\n",
    "df.loc[df['연도']==2019, '연봉']=0\n",
    "# if 연봉 >0 -> train/ else -> test\n",
    "train = df[df['연봉'] > 0].copy()\n",
    "test = df[df['연봉'] == 0].copy()"
   ]
  },
  {
   "cell_type": "code",
   "execution_count": 12,
   "metadata": {},
   "outputs": [
    {
     "name": "stdout",
     "output_type": "stream",
     "text": [
      "['선수', 'WAR', 'G', '타석', '타수', '득점', '안타', '2타', '3타', '홈런', '루타', '타점', '도루', '도실', '볼넷', '사구', '고4', '삼진', '병살', '희타', '희비', '타율', '출루', '장타', 'OPS', 'wOBA', 'wRC+', 'WAR+', '연도', '포지션', '생일', '연봉', '나이']\n"
     ]
    }
   ],
   "source": [
    "# feature 에 쓰이지 않을 정보들 제외\n",
    "feature_names = test.columns.tolist()\n",
    "print(feature_names)\n",
    "feature_names.remove(\"선수\")\n",
    "feature_names.remove(\"연도\")\n",
    "feature_names.remove(\"생일\")\n",
    "feature_names.remove(\"연봉\")\n",
    "feature_names.remove(\"포지션\")\n",
    "# feature 에 쓰이지 않을 정보들 추가제외(8/26)\n",
    "feature_names.remove(\"고4\")\n",
    "feature_names.remove(\"볼넷\")\n",
    "feature_names.remove(\"타석\")\n",
    "feature_names.remove(\"타수\")\n",
    "feature_names.remove(\"루타\")\n",
    "feature_names.remove(\"안타\")\n",
    "feature_names.remove(\"2타\")\n",
    "feature_names.remove(\"3타\")"
   ]
  },
  {
   "cell_type": "code",
   "execution_count": 13,
   "metadata": {},
   "outputs": [
    {
     "name": "stderr",
     "output_type": "stream",
     "text": [
      "<ipython-input-13-0fc76782340f>:1: FutureWarning: The pandas.np module is deprecated and will be removed from pandas in a future version. Import numpy directly instead\n",
      "  train = train.replace(pd.np.nan, 0)\n",
      "<ipython-input-13-0fc76782340f>:2: FutureWarning: The pandas.np module is deprecated and will be removed from pandas in a future version. Import numpy directly instead\n",
      "  test = test.replace(pd.np.nan, 0)\n"
     ]
    }
   ],
   "source": [
    "train = train.replace(pd.np.nan, 0)\n",
    "test = test.replace(pd.np.nan, 0)"
   ]
  },
  {
   "cell_type": "code",
   "execution_count": 14,
   "metadata": {},
   "outputs": [
    {
     "name": "stdout",
     "output_type": "stream",
     "text": [
      "1319\n"
     ]
    }
   ],
   "source": [
    "# 예측값 라벨링, label = 연봉\n",
    "label_name = '연봉'\n",
    "\n",
    "X_train = train[feature_names].astype(int)\n",
    "y_train = train[label_name]\n",
    "\n",
    "X_test = test[feature_names].astype(int)\n",
    "y_test = test[label_name]\n",
    "\n",
    "print(len(y_train))"
   ]
  },
  {
   "cell_type": "code",
   "execution_count": 15,
   "metadata": {},
   "outputs": [],
   "source": [
    "from sklearn.tree import DecisionTreeRegressor\n",
    "\n",
    "model = DecisionTreeRegressor(random_state=42)"
   ]
  },
  {
   "cell_type": "code",
   "execution_count": 16,
   "metadata": {},
   "outputs": [],
   "source": [
    "#scikit-learn 모듈 로드\n",
    "from sklearn.model_selection import RandomizedSearchCV\n",
    "\n",
    "max_depth = np.random.randint(5,30,10)\n",
    "max_features = np.random.uniform(0.3,1.0,10)\n",
    "param_distributions = {'max_depth':max_depth, 'max_features':max_features}\n",
    "regressor = RandomizedSearchCV(model,\n",
    "                              param_distributions,\n",
    "                              n_iter=10,\n",
    "                              scoring=None,\n",
    "                              cv=5,\n",
    "                              verbose=2,\n",
    "                              random_state=52)"
   ]
  },
  {
   "cell_type": "code",
   "execution_count": 17,
   "metadata": {},
   "outputs": [
    {
     "name": "stdout",
     "output_type": "stream",
     "text": [
      "Fitting 5 folds for each of 10 candidates, totalling 50 fits\n",
      "[CV] max_features=0.5071959729552366, max_depth=20 ...................\n",
      "[CV] .... max_features=0.5071959729552366, max_depth=20, total=   0.0s\n",
      "[CV] max_features=0.5071959729552366, max_depth=20 ...................\n",
      "[CV] .... max_features=0.5071959729552366, max_depth=20, total=   0.0s\n",
      "[CV] max_features=0.5071959729552366, max_depth=20 ...................\n",
      "[CV] .... max_features=0.5071959729552366, max_depth=20, total=   0.0s\n",
      "[CV] max_features=0.5071959729552366, max_depth=20 ...................\n",
      "[CV] .... max_features=0.5071959729552366, max_depth=20, total=   0.0s\n",
      "[CV] max_features=0.5071959729552366, max_depth=20 ...................\n",
      "[CV] .... max_features=0.5071959729552366, max_depth=20, total=   0.0s\n",
      "[CV] max_features=0.4479690423583763, max_depth=22 ...................\n",
      "[CV] .... max_features=0.4479690423583763, max_depth=22, total=   0.0s\n",
      "[CV] max_features=0.4479690423583763, max_depth=22 ...................\n",
      "[CV] .... max_features=0.4479690423583763, max_depth=22, total=   0.0s\n",
      "[CV] max_features=0.4479690423583763, max_depth=22 ...................\n",
      "[CV] .... max_features=0.4479690423583763, max_depth=22, total=   0.0s\n",
      "[CV] max_features=0.4479690423583763, max_depth=22 ...................\n",
      "[CV] .... max_features=0.4479690423583763, max_depth=22, total=   0.0s\n",
      "[CV] max_features=0.4479690423583763, max_depth=22 ...................\n",
      "[CV] .... max_features=0.4479690423583763, max_depth=22, total=   0.0s\n",
      "[CV] max_features=0.8923956668906134, max_depth=13 ...................\n",
      "[CV] .... max_features=0.8923956668906134, max_depth=13, total=   0.0s\n",
      "[CV] max_features=0.8923956668906134, max_depth=13 ...................\n",
      "[CV] .... max_features=0.8923956668906134, max_depth=13, total=   0.0s\n",
      "[CV] max_features=0.8923956668906134, max_depth=13 ...................\n",
      "[CV] .... max_features=0.8923956668906134, max_depth=13, total=   0.0s\n",
      "[CV] max_features=0.8923956668906134, max_depth=13 ...................\n",
      "[CV] .... max_features=0.8923956668906134, max_depth=13, total=   0.0s\n",
      "[CV] max_features=0.8923956668906134, max_depth=13 ...................\n",
      "[CV] .... max_features=0.8923956668906134, max_depth=13, total=   0.0s\n",
      "[CV] max_features=0.7533951216060089, max_depth=26 ...................\n",
      "[CV] .... max_features=0.7533951216060089, max_depth=26, total=   0.0s\n",
      "[CV] max_features=0.7533951216060089, max_depth=26 ...................\n"
     ]
    },
    {
     "name": "stderr",
     "output_type": "stream",
     "text": [
      "[Parallel(n_jobs=1)]: Using backend SequentialBackend with 1 concurrent workers.\n",
      "[Parallel(n_jobs=1)]: Done   1 out of   1 | elapsed:    0.0s remaining:    0.0s\n"
     ]
    },
    {
     "name": "stdout",
     "output_type": "stream",
     "text": [
      "[CV] .... max_features=0.7533951216060089, max_depth=26, total=   0.0s\n",
      "[CV] max_features=0.7533951216060089, max_depth=26 ...................\n",
      "[CV] .... max_features=0.7533951216060089, max_depth=26, total=   0.0s\n",
      "[CV] max_features=0.7533951216060089, max_depth=26 ...................\n",
      "[CV] .... max_features=0.7533951216060089, max_depth=26, total=   0.0s\n",
      "[CV] max_features=0.7533951216060089, max_depth=26 ...................\n",
      "[CV] .... max_features=0.7533951216060089, max_depth=26, total=   0.0s\n",
      "[CV] max_features=0.5071959729552366, max_depth=22 ...................\n",
      "[CV] .... max_features=0.5071959729552366, max_depth=22, total=   0.0s\n",
      "[CV] max_features=0.5071959729552366, max_depth=22 ...................\n",
      "[CV] .... max_features=0.5071959729552366, max_depth=22, total=   0.0s\n",
      "[CV] max_features=0.5071959729552366, max_depth=22 ...................\n",
      "[CV] .... max_features=0.5071959729552366, max_depth=22, total=   0.0s\n",
      "[CV] max_features=0.5071959729552366, max_depth=22 ...................\n",
      "[CV] .... max_features=0.5071959729552366, max_depth=22, total=   0.0s\n",
      "[CV] max_features=0.5071959729552366, max_depth=22 ...................\n",
      "[CV] .... max_features=0.5071959729552366, max_depth=22, total=   0.0s\n",
      "[CV] max_features=0.8128609463257208, max_depth=24 ...................\n",
      "[CV] .... max_features=0.8128609463257208, max_depth=24, total=   0.0s\n",
      "[CV] max_features=0.8128609463257208, max_depth=24 ...................\n",
      "[CV] .... max_features=0.8128609463257208, max_depth=24, total=   0.0s\n",
      "[CV] max_features=0.8128609463257208, max_depth=24 ...................\n",
      "[CV] .... max_features=0.8128609463257208, max_depth=24, total=   0.0s\n",
      "[CV] max_features=0.8128609463257208, max_depth=24 ...................\n",
      "[CV] .... max_features=0.8128609463257208, max_depth=24, total=   0.0s\n",
      "[CV] max_features=0.8128609463257208, max_depth=24 ...................\n",
      "[CV] .... max_features=0.8128609463257208, max_depth=24, total=   0.0s\n",
      "[CV] max_features=0.8654678731149488, max_depth=16 ...................\n",
      "[CV] .... max_features=0.8654678731149488, max_depth=16, total=   0.0s\n",
      "[CV] max_features=0.8654678731149488, max_depth=16 ...................\n",
      "[CV] .... max_features=0.8654678731149488, max_depth=16, total=   0.0s\n",
      "[CV] max_features=0.8654678731149488, max_depth=16 ...................\n",
      "[CV] .... max_features=0.8654678731149488, max_depth=16, total=   0.0s\n",
      "[CV] max_features=0.8654678731149488, max_depth=16 ...................\n",
      "[CV] .... max_features=0.8654678731149488, max_depth=16, total=   0.0s\n",
      "[CV] max_features=0.8654678731149488, max_depth=16 ...................\n",
      "[CV] .... max_features=0.8654678731149488, max_depth=16, total=   0.0s\n",
      "[CV] max_features=0.7533951216060089, max_depth=20 ...................\n",
      "[CV] .... max_features=0.7533951216060089, max_depth=20, total=   0.0s\n",
      "[CV] max_features=0.7533951216060089, max_depth=20 ...................\n",
      "[CV] .... max_features=0.7533951216060089, max_depth=20, total=   0.0s\n",
      "[CV] max_features=0.7533951216060089, max_depth=20 ...................\n",
      "[CV] .... max_features=0.7533951216060089, max_depth=20, total=   0.0s\n",
      "[CV] max_features=0.7533951216060089, max_depth=20 ...................\n",
      "[CV] .... max_features=0.7533951216060089, max_depth=20, total=   0.0s\n",
      "[CV] max_features=0.7533951216060089, max_depth=20 ...................\n",
      "[CV] .... max_features=0.7533951216060089, max_depth=20, total=   0.0s\n",
      "[CV] max_features=0.8654678731149488, max_depth=27 ...................\n",
      "[CV] .... max_features=0.8654678731149488, max_depth=27, total=   0.0s\n",
      "[CV] max_features=0.8654678731149488, max_depth=27 ...................\n",
      "[CV] .... max_features=0.8654678731149488, max_depth=27, total=   0.0s\n",
      "[CV] max_features=0.8654678731149488, max_depth=27 ...................\n",
      "[CV] .... max_features=0.8654678731149488, max_depth=27, total=   0.0s\n",
      "[CV] max_features=0.8654678731149488, max_depth=27 ...................\n",
      "[CV] .... max_features=0.8654678731149488, max_depth=27, total=   0.0s\n",
      "[CV] max_features=0.8654678731149488, max_depth=27 ...................\n",
      "[CV] .... max_features=0.8654678731149488, max_depth=27, total=   0.0s\n",
      "[CV] max_features=0.4479690423583763, max_depth=26 ...................\n",
      "[CV] .... max_features=0.4479690423583763, max_depth=26, total=   0.0s\n",
      "[CV] max_features=0.4479690423583763, max_depth=26 ...................\n",
      "[CV] .... max_features=0.4479690423583763, max_depth=26, total=   0.0s\n",
      "[CV] max_features=0.4479690423583763, max_depth=26 ...................\n",
      "[CV] .... max_features=0.4479690423583763, max_depth=26, total=   0.0s\n",
      "[CV] max_features=0.4479690423583763, max_depth=26 ...................\n",
      "[CV] .... max_features=0.4479690423583763, max_depth=26, total=   0.0s\n",
      "[CV] max_features=0.4479690423583763, max_depth=26 ...................\n",
      "[CV] .... max_features=0.4479690423583763, max_depth=26, total=   0.0s\n"
     ]
    },
    {
     "name": "stderr",
     "output_type": "stream",
     "text": [
      "[Parallel(n_jobs=1)]: Done  50 out of  50 | elapsed:    0.5s finished\n"
     ]
    },
    {
     "data": {
      "text/plain": [
       "RandomizedSearchCV(cv=5, estimator=DecisionTreeRegressor(random_state=42),\n",
       "                   param_distributions={'max_depth': array([22, 26, 20, 16, 13, 23, 27, 24, 20, 11]),\n",
       "                                        'max_features': array([0.74053506, 0.70323971, 0.50719597, 0.81286095, 0.89239567,\n",
       "       0.82134987, 0.36014592, 0.86546787, 0.44796904, 0.75339512])},\n",
       "                   random_state=52, verbose=2)"
      ]
     },
     "execution_count": 17,
     "metadata": {},
     "output_type": "execute_result"
    }
   ],
   "source": [
    "regressor.fit(X_train, y_train)"
   ]
  },
  {
   "cell_type": "code",
   "execution_count": 18,
   "metadata": {},
   "outputs": [
    {
     "data": {
      "text/plain": [
       "{'max_features': 0.5071959729552366, 'max_depth': 20}"
      ]
     },
     "execution_count": 18,
     "metadata": {},
     "output_type": "execute_result"
    }
   ],
   "source": [
    "regressor.best_params_"
   ]
  },
  {
   "cell_type": "code",
   "execution_count": 19,
   "metadata": {},
   "outputs": [
    {
     "data": {
      "text/plain": [
       "0.08057172232834638"
      ]
     },
     "execution_count": 19,
     "metadata": {},
     "output_type": "execute_result"
    }
   ],
   "source": [
    "regressor.best_score_"
   ]
  },
  {
   "cell_type": "code",
   "execution_count": 20,
   "metadata": {},
   "outputs": [
    {
     "data": {
      "text/plain": [
       "[DecisionTreeRegressor(random_state=42),\n",
       " RandomForestRegressor(random_state=42),\n",
       " GradientBoostingRegressor(random_state=42)]"
      ]
     },
     "execution_count": 20,
     "metadata": {},
     "output_type": "execute_result"
    }
   ],
   "source": [
    "from sklearn.ensemble import RandomForestRegressor, GradientBoostingRegressor\n",
    "\n",
    "estimators = [DecisionTreeRegressor(random_state=42),\n",
    "             RandomForestRegressor(random_state=42),\n",
    "             GradientBoostingRegressor(random_state=42)]\n",
    "estimators"
   ]
  },
  {
   "cell_type": "code",
   "execution_count": 21,
   "metadata": {},
   "outputs": [
    {
     "name": "stdout",
     "output_type": "stream",
     "text": [
      "Fitting 5 folds for each of 10 candidates, totalling 50 fits\n",
      "[CV] max_features=0.31020224583850975, max_depth=27 ..................\n",
      "[CV] ... max_features=0.31020224583850975, max_depth=27, total=   0.0s\n",
      "[CV] max_features=0.31020224583850975, max_depth=27 ..................\n",
      "[CV] ... max_features=0.31020224583850975, max_depth=27, total=   0.0s\n",
      "[CV] max_features=0.31020224583850975, max_depth=27 ..................\n",
      "[CV] ... max_features=0.31020224583850975, max_depth=27, total=   0.0s\n",
      "[CV] max_features=0.31020224583850975, max_depth=27 ..................\n",
      "[CV] ... max_features=0.31020224583850975, max_depth=27, total=   0.0s\n",
      "[CV] max_features=0.31020224583850975, max_depth=27 ..................\n",
      "[CV] ... max_features=0.31020224583850975, max_depth=27, total=   0.0s\n",
      "[CV] max_features=0.31020224583850975, max_depth=18 ..................\n",
      "[CV] ... max_features=0.31020224583850975, max_depth=18, total=   0.0s\n",
      "[CV] max_features=0.31020224583850975, max_depth=18 ..................\n",
      "[CV] ... max_features=0.31020224583850975, max_depth=18, total=   0.0s\n",
      "[CV] max_features=0.31020224583850975, max_depth=18 ..................\n",
      "[CV] ... max_features=0.31020224583850975, max_depth=18, total=   0.0s\n",
      "[CV] max_features=0.31020224583850975, max_depth=18 ..................\n",
      "[CV] ... max_features=0.31020224583850975, max_depth=18, total=   0.0s\n",
      "[CV] max_features=0.31020224583850975, max_depth=18 ..................\n",
      "[CV] ... max_features=0.31020224583850975, max_depth=18, total=   0.0s\n",
      "[CV] max_features=0.7661764253886678, max_depth=6 ....................\n",
      "[CV] ..... max_features=0.7661764253886678, max_depth=6, total=   0.0s\n",
      "[CV] max_features=0.7661764253886678, max_depth=6 ....................\n",
      "[CV] ..... max_features=0.7661764253886678, max_depth=6, total=   0.0s\n",
      "[CV] max_features=0.7661764253886678, max_depth=6 ....................\n",
      "[CV] ..... max_features=0.7661764253886678, max_depth=6, total=   0.0s\n",
      "[CV] max_features=0.7661764253886678, max_depth=6 ....................\n",
      "[CV] ..... max_features=0.7661764253886678, max_depth=6, total=   0.0s\n",
      "[CV] max_features=0.7661764253886678, max_depth=6 ....................\n",
      "[CV] ..... max_features=0.7661764253886678, max_depth=6, total=   0.0s\n",
      "[CV] max_features=0.9893166762496421, max_depth=21 ...................\n",
      "[CV] .... max_features=0.9893166762496421, max_depth=21, total=   0.0s\n",
      "[CV] max_features=0.9893166762496421, max_depth=21 ...................\n",
      "[CV] .... max_features=0.9893166762496421, max_depth=21, total=   0.0s\n",
      "[CV] max_features=0.9893166762496421, max_depth=21 ...................\n",
      "[CV] .... max_features=0.9893166762496421, max_depth=21, total=   0.0s\n",
      "[CV] max_features=0.9893166762496421, max_depth=21 ...................\n"
     ]
    },
    {
     "name": "stderr",
     "output_type": "stream",
     "text": [
      "[Parallel(n_jobs=1)]: Using backend SequentialBackend with 1 concurrent workers.\n",
      "[Parallel(n_jobs=1)]: Done   1 out of   1 | elapsed:    0.0s remaining:    0.0s\n"
     ]
    },
    {
     "name": "stdout",
     "output_type": "stream",
     "text": [
      "[CV] .... max_features=0.9893166762496421, max_depth=21, total=   0.0s\n",
      "[CV] max_features=0.9893166762496421, max_depth=21 ...................\n",
      "[CV] .... max_features=0.9893166762496421, max_depth=21, total=   0.0s\n",
      "[CV] max_features=0.45658134569865316, max_depth=21 ..................\n",
      "[CV] ... max_features=0.45658134569865316, max_depth=21, total=   0.0s\n",
      "[CV] max_features=0.45658134569865316, max_depth=21 ..................\n",
      "[CV] ... max_features=0.45658134569865316, max_depth=21, total=   0.0s\n",
      "[CV] max_features=0.45658134569865316, max_depth=21 ..................\n",
      "[CV] ... max_features=0.45658134569865316, max_depth=21, total=   0.0s\n",
      "[CV] max_features=0.45658134569865316, max_depth=21 ..................\n",
      "[CV] ... max_features=0.45658134569865316, max_depth=21, total=   0.0s\n",
      "[CV] max_features=0.45658134569865316, max_depth=21 ..................\n",
      "[CV] ... max_features=0.45658134569865316, max_depth=21, total=   0.0s\n",
      "[CV] max_features=0.32004267316763807, max_depth=22 ..................\n",
      "[CV] ... max_features=0.32004267316763807, max_depth=22, total=   0.0s\n",
      "[CV] max_features=0.32004267316763807, max_depth=22 ..................\n",
      "[CV] ... max_features=0.32004267316763807, max_depth=22, total=   0.0s\n",
      "[CV] max_features=0.32004267316763807, max_depth=22 ..................\n",
      "[CV] ... max_features=0.32004267316763807, max_depth=22, total=   0.0s\n",
      "[CV] max_features=0.32004267316763807, max_depth=22 ..................\n",
      "[CV] ... max_features=0.32004267316763807, max_depth=22, total=   0.0s\n",
      "[CV] max_features=0.32004267316763807, max_depth=22 ..................\n",
      "[CV] ... max_features=0.32004267316763807, max_depth=22, total=   0.0s\n",
      "[CV] max_features=0.31124949270639146, max_depth=13 ..................\n",
      "[CV] ... max_features=0.31124949270639146, max_depth=13, total=   0.0s\n",
      "[CV] max_features=0.31124949270639146, max_depth=13 ..................\n",
      "[CV] ... max_features=0.31124949270639146, max_depth=13, total=   0.0s\n",
      "[CV] max_features=0.31124949270639146, max_depth=13 ..................\n",
      "[CV] ... max_features=0.31124949270639146, max_depth=13, total=   0.0s\n",
      "[CV] max_features=0.31124949270639146, max_depth=13 ..................\n",
      "[CV] ... max_features=0.31124949270639146, max_depth=13, total=   0.0s\n",
      "[CV] max_features=0.31124949270639146, max_depth=13 ..................\n",
      "[CV] ... max_features=0.31124949270639146, max_depth=13, total=   0.0s\n",
      "[CV] max_features=0.7661764253886678, max_depth=27 ...................\n",
      "[CV] .... max_features=0.7661764253886678, max_depth=27, total=   0.0s\n",
      "[CV] max_features=0.7661764253886678, max_depth=27 ...................\n",
      "[CV] .... max_features=0.7661764253886678, max_depth=27, total=   0.0s\n",
      "[CV] max_features=0.7661764253886678, max_depth=27 ...................\n",
      "[CV] .... max_features=0.7661764253886678, max_depth=27, total=   0.0s\n",
      "[CV] max_features=0.7661764253886678, max_depth=27 ...................\n",
      "[CV] .... max_features=0.7661764253886678, max_depth=27, total=   0.0s\n",
      "[CV] max_features=0.7661764253886678, max_depth=27 ...................\n",
      "[CV] .... max_features=0.7661764253886678, max_depth=27, total=   0.0s\n",
      "[CV] max_features=0.7661764253886678, max_depth=23 ...................\n",
      "[CV] .... max_features=0.7661764253886678, max_depth=23, total=   0.0s\n",
      "[CV] max_features=0.7661764253886678, max_depth=23 ...................\n",
      "[CV] .... max_features=0.7661764253886678, max_depth=23, total=   0.0s\n",
      "[CV] max_features=0.7661764253886678, max_depth=23 ...................\n",
      "[CV] .... max_features=0.7661764253886678, max_depth=23, total=   0.0s\n",
      "[CV] max_features=0.7661764253886678, max_depth=23 ...................\n",
      "[CV] .... max_features=0.7661764253886678, max_depth=23, total=   0.0s\n",
      "[CV] max_features=0.7661764253886678, max_depth=23 ...................\n",
      "[CV] .... max_features=0.7661764253886678, max_depth=23, total=   0.0s\n",
      "[CV] max_features=0.7661764253886678, max_depth=5 ....................\n",
      "[CV] ..... max_features=0.7661764253886678, max_depth=5, total=   0.0s\n",
      "[CV] max_features=0.7661764253886678, max_depth=5 ....................\n",
      "[CV] ..... max_features=0.7661764253886678, max_depth=5, total=   0.0s\n",
      "[CV] max_features=0.7661764253886678, max_depth=5 ....................\n",
      "[CV] ..... max_features=0.7661764253886678, max_depth=5, total=   0.0s\n",
      "[CV] max_features=0.7661764253886678, max_depth=5 ....................\n",
      "[CV] ..... max_features=0.7661764253886678, max_depth=5, total=   0.0s\n",
      "[CV] max_features=0.7661764253886678, max_depth=5 ....................\n",
      "[CV] ..... max_features=0.7661764253886678, max_depth=5, total=   0.0s\n",
      "Fitting 5 folds for each of 10 candidates, totalling 50 fits\n",
      "[CV] max_features=0.31947100856017396, max_depth=8 ...................\n"
     ]
    },
    {
     "name": "stderr",
     "output_type": "stream",
     "text": [
      "[Parallel(n_jobs=1)]: Done  50 out of  50 | elapsed:    0.4s finished\n",
      "[Parallel(n_jobs=1)]: Using backend SequentialBackend with 1 concurrent workers.\n"
     ]
    },
    {
     "name": "stdout",
     "output_type": "stream",
     "text": [
      "[CV] .... max_features=0.31947100856017396, max_depth=8, total=   0.3s\n",
      "[CV] max_features=0.31947100856017396, max_depth=8 ...................\n"
     ]
    },
    {
     "name": "stderr",
     "output_type": "stream",
     "text": [
      "[Parallel(n_jobs=1)]: Done   1 out of   1 | elapsed:    0.2s remaining:    0.0s\n"
     ]
    },
    {
     "name": "stdout",
     "output_type": "stream",
     "text": [
      "[CV] .... max_features=0.31947100856017396, max_depth=8, total=   0.2s\n",
      "[CV] max_features=0.31947100856017396, max_depth=8 ...................\n",
      "[CV] .... max_features=0.31947100856017396, max_depth=8, total=   0.3s\n",
      "[CV] max_features=0.31947100856017396, max_depth=8 ...................\n",
      "[CV] .... max_features=0.31947100856017396, max_depth=8, total=   0.2s\n",
      "[CV] max_features=0.31947100856017396, max_depth=8 ...................\n",
      "[CV] .... max_features=0.31947100856017396, max_depth=8, total=   0.3s\n",
      "[CV] max_features=0.31947100856017396, max_depth=18 ..................\n",
      "[CV] ... max_features=0.31947100856017396, max_depth=18, total=   0.4s\n",
      "[CV] max_features=0.31947100856017396, max_depth=18 ..................\n",
      "[CV] ... max_features=0.31947100856017396, max_depth=18, total=   0.3s\n",
      "[CV] max_features=0.31947100856017396, max_depth=18 ..................\n",
      "[CV] ... max_features=0.31947100856017396, max_depth=18, total=   0.4s\n",
      "[CV] max_features=0.31947100856017396, max_depth=18 ..................\n",
      "[CV] ... max_features=0.31947100856017396, max_depth=18, total=   0.3s\n",
      "[CV] max_features=0.31947100856017396, max_depth=18 ..................\n",
      "[CV] ... max_features=0.31947100856017396, max_depth=18, total=   0.3s\n",
      "[CV] max_features=0.9656342126491002, max_depth=27 ...................\n",
      "[CV] .... max_features=0.9656342126491002, max_depth=27, total=   0.6s\n",
      "[CV] max_features=0.9656342126491002, max_depth=27 ...................\n",
      "[CV] .... max_features=0.9656342126491002, max_depth=27, total=   0.6s\n",
      "[CV] max_features=0.9656342126491002, max_depth=27 ...................\n",
      "[CV] .... max_features=0.9656342126491002, max_depth=27, total=   0.6s\n",
      "[CV] max_features=0.9656342126491002, max_depth=27 ...................\n",
      "[CV] .... max_features=0.9656342126491002, max_depth=27, total=   0.6s\n",
      "[CV] max_features=0.9656342126491002, max_depth=27 ...................\n",
      "[CV] .... max_features=0.9656342126491002, max_depth=27, total=   0.6s\n",
      "[CV] max_features=0.7810405084366112, max_depth=22 ...................\n",
      "[CV] .... max_features=0.7810405084366112, max_depth=22, total=   0.5s\n",
      "[CV] max_features=0.7810405084366112, max_depth=22 ...................\n",
      "[CV] .... max_features=0.7810405084366112, max_depth=22, total=   0.6s\n",
      "[CV] max_features=0.7810405084366112, max_depth=22 ...................\n",
      "[CV] .... max_features=0.7810405084366112, max_depth=22, total=   0.6s\n",
      "[CV] max_features=0.7810405084366112, max_depth=22 ...................\n",
      "[CV] .... max_features=0.7810405084366112, max_depth=22, total=   0.5s\n",
      "[CV] max_features=0.7810405084366112, max_depth=22 ...................\n",
      "[CV] .... max_features=0.7810405084366112, max_depth=22, total=   0.5s\n",
      "[CV] max_features=0.7387543813367621, max_depth=22 ...................\n",
      "[CV] .... max_features=0.7387543813367621, max_depth=22, total=   0.5s\n",
      "[CV] max_features=0.7387543813367621, max_depth=22 ...................\n",
      "[CV] .... max_features=0.7387543813367621, max_depth=22, total=   0.5s\n",
      "[CV] max_features=0.7387543813367621, max_depth=22 ...................\n",
      "[CV] .... max_features=0.7387543813367621, max_depth=22, total=   0.5s\n",
      "[CV] max_features=0.7387543813367621, max_depth=22 ...................\n",
      "[CV] .... max_features=0.7387543813367621, max_depth=22, total=   0.5s\n",
      "[CV] max_features=0.7387543813367621, max_depth=22 ...................\n",
      "[CV] .... max_features=0.7387543813367621, max_depth=22, total=   0.5s\n",
      "[CV] max_features=0.301980038884413, max_depth=10 ....................\n",
      "[CV] ..... max_features=0.301980038884413, max_depth=10, total=   0.3s\n",
      "[CV] max_features=0.301980038884413, max_depth=10 ....................\n",
      "[CV] ..... max_features=0.301980038884413, max_depth=10, total=   0.3s\n",
      "[CV] max_features=0.301980038884413, max_depth=10 ....................\n",
      "[CV] ..... max_features=0.301980038884413, max_depth=10, total=   0.3s\n",
      "[CV] max_features=0.301980038884413, max_depth=10 ....................\n",
      "[CV] ..... max_features=0.301980038884413, max_depth=10, total=   0.3s\n",
      "[CV] max_features=0.301980038884413, max_depth=10 ....................\n",
      "[CV] ..... max_features=0.301980038884413, max_depth=10, total=   0.3s\n",
      "[CV] max_features=0.8084543754073192, max_depth=6 ....................\n",
      "[CV] ..... max_features=0.8084543754073192, max_depth=6, total=   0.3s\n",
      "[CV] max_features=0.8084543754073192, max_depth=6 ....................\n",
      "[CV] ..... max_features=0.8084543754073192, max_depth=6, total=   0.3s\n",
      "[CV] max_features=0.8084543754073192, max_depth=6 ....................\n",
      "[CV] ..... max_features=0.8084543754073192, max_depth=6, total=   0.3s\n",
      "[CV] max_features=0.8084543754073192, max_depth=6 ....................\n",
      "[CV] ..... max_features=0.8084543754073192, max_depth=6, total=   0.3s\n",
      "[CV] max_features=0.8084543754073192, max_depth=6 ....................\n",
      "[CV] ..... max_features=0.8084543754073192, max_depth=6, total=   0.3s\n",
      "[CV] max_features=0.9656342126491002, max_depth=8 ....................\n",
      "[CV] ..... max_features=0.9656342126491002, max_depth=8, total=   0.4s\n",
      "[CV] max_features=0.9656342126491002, max_depth=8 ....................\n",
      "[CV] ..... max_features=0.9656342126491002, max_depth=8, total=   0.4s\n",
      "[CV] max_features=0.9656342126491002, max_depth=8 ....................\n",
      "[CV] ..... max_features=0.9656342126491002, max_depth=8, total=   0.4s\n",
      "[CV] max_features=0.9656342126491002, max_depth=8 ....................\n",
      "[CV] ..... max_features=0.9656342126491002, max_depth=8, total=   0.4s\n",
      "[CV] max_features=0.9656342126491002, max_depth=8 ....................\n",
      "[CV] ..... max_features=0.9656342126491002, max_depth=8, total=   0.4s\n",
      "[CV] max_features=0.9656342126491002, max_depth=25 ...................\n",
      "[CV] .... max_features=0.9656342126491002, max_depth=25, total=   0.7s\n",
      "[CV] max_features=0.9656342126491002, max_depth=25 ...................\n",
      "[CV] .... max_features=0.9656342126491002, max_depth=25, total=   0.6s\n",
      "[CV] max_features=0.9656342126491002, max_depth=25 ...................\n",
      "[CV] .... max_features=0.9656342126491002, max_depth=25, total=   0.6s\n",
      "[CV] max_features=0.9656342126491002, max_depth=25 ...................\n",
      "[CV] .... max_features=0.9656342126491002, max_depth=25, total=   0.6s\n",
      "[CV] max_features=0.9656342126491002, max_depth=25 ...................\n",
      "[CV] .... max_features=0.9656342126491002, max_depth=25, total=   0.6s\n",
      "[CV] max_features=0.9656342126491002, max_depth=16 ...................\n",
      "[CV] .... max_features=0.9656342126491002, max_depth=16, total=   0.6s\n",
      "[CV] max_features=0.9656342126491002, max_depth=16 ...................\n",
      "[CV] .... max_features=0.9656342126491002, max_depth=16, total=   0.6s\n",
      "[CV] max_features=0.9656342126491002, max_depth=16 ...................\n",
      "[CV] .... max_features=0.9656342126491002, max_depth=16, total=   0.6s\n",
      "[CV] max_features=0.9656342126491002, max_depth=16 ...................\n",
      "[CV] .... max_features=0.9656342126491002, max_depth=16, total=   0.6s\n",
      "[CV] max_features=0.9656342126491002, max_depth=16 ...................\n",
      "[CV] .... max_features=0.9656342126491002, max_depth=16, total=   0.6s\n"
     ]
    },
    {
     "name": "stderr",
     "output_type": "stream",
     "text": [
      "[Parallel(n_jobs=1)]: Done  50 out of  50 | elapsed:   23.0s finished\n"
     ]
    },
    {
     "name": "stdout",
     "output_type": "stream",
     "text": [
      "Fitting 5 folds for each of 10 candidates, totalling 50 fits\n",
      "[CV] max_features=0.9231917682662594, max_depth=25 ...................\n"
     ]
    },
    {
     "name": "stderr",
     "output_type": "stream",
     "text": [
      "[Parallel(n_jobs=1)]: Using backend SequentialBackend with 1 concurrent workers.\n"
     ]
    },
    {
     "name": "stdout",
     "output_type": "stream",
     "text": [
      "[CV] .... max_features=0.9231917682662594, max_depth=25, total=   0.8s\n",
      "[CV] max_features=0.9231917682662594, max_depth=25 ...................\n"
     ]
    },
    {
     "name": "stderr",
     "output_type": "stream",
     "text": [
      "[Parallel(n_jobs=1)]: Done   1 out of   1 | elapsed:    0.7s remaining:    0.0s\n"
     ]
    },
    {
     "name": "stdout",
     "output_type": "stream",
     "text": [
      "[CV] .... max_features=0.9231917682662594, max_depth=25, total=   0.8s\n",
      "[CV] max_features=0.9231917682662594, max_depth=25 ...................\n",
      "[CV] .... max_features=0.9231917682662594, max_depth=25, total=   0.8s\n",
      "[CV] max_features=0.9231917682662594, max_depth=25 ...................\n",
      "[CV] .... max_features=0.9231917682662594, max_depth=25, total=   0.8s\n",
      "[CV] max_features=0.9231917682662594, max_depth=25 ...................\n",
      "[CV] .... max_features=0.9231917682662594, max_depth=25, total=   0.8s\n",
      "[CV] max_features=0.9231917682662594, max_depth=11 ...................\n",
      "[CV] .... max_features=0.9231917682662594, max_depth=11, total=   0.6s\n",
      "[CV] max_features=0.9231917682662594, max_depth=11 ...................\n",
      "[CV] .... max_features=0.9231917682662594, max_depth=11, total=   0.6s\n",
      "[CV] max_features=0.9231917682662594, max_depth=11 ...................\n",
      "[CV] .... max_features=0.9231917682662594, max_depth=11, total=   0.6s\n",
      "[CV] max_features=0.9231917682662594, max_depth=11 ...................\n",
      "[CV] .... max_features=0.9231917682662594, max_depth=11, total=   0.6s\n",
      "[CV] max_features=0.9231917682662594, max_depth=11 ...................\n",
      "[CV] .... max_features=0.9231917682662594, max_depth=11, total=   0.6s\n",
      "[CV] max_features=0.5662357594713304, max_depth=29 ...................\n",
      "[CV] .... max_features=0.5662357594713304, max_depth=29, total=   0.6s\n",
      "[CV] max_features=0.5662357594713304, max_depth=29 ...................\n",
      "[CV] .... max_features=0.5662357594713304, max_depth=29, total=   0.5s\n",
      "[CV] max_features=0.5662357594713304, max_depth=29 ...................\n",
      "[CV] .... max_features=0.5662357594713304, max_depth=29, total=   0.6s\n",
      "[CV] max_features=0.5662357594713304, max_depth=29 ...................\n",
      "[CV] .... max_features=0.5662357594713304, max_depth=29, total=   0.6s\n",
      "[CV] max_features=0.5662357594713304, max_depth=29 ...................\n",
      "[CV] .... max_features=0.5662357594713304, max_depth=29, total=   0.6s\n",
      "[CV] max_features=0.39815065402422206, max_depth=16 ..................\n",
      "[CV] ... max_features=0.39815065402422206, max_depth=16, total=   0.4s\n",
      "[CV] max_features=0.39815065402422206, max_depth=16 ..................\n",
      "[CV] ... max_features=0.39815065402422206, max_depth=16, total=   0.4s\n",
      "[CV] max_features=0.39815065402422206, max_depth=16 ..................\n",
      "[CV] ... max_features=0.39815065402422206, max_depth=16, total=   0.4s\n",
      "[CV] max_features=0.39815065402422206, max_depth=16 ..................\n",
      "[CV] ... max_features=0.39815065402422206, max_depth=16, total=   0.4s\n",
      "[CV] max_features=0.39815065402422206, max_depth=16 ..................\n",
      "[CV] ... max_features=0.39815065402422206, max_depth=16, total=   0.4s\n",
      "[CV] max_features=0.3846744858229279, max_depth=16 ...................\n",
      "[CV] .... max_features=0.3846744858229279, max_depth=16, total=   0.4s\n",
      "[CV] max_features=0.3846744858229279, max_depth=16 ...................\n",
      "[CV] .... max_features=0.3846744858229279, max_depth=16, total=   0.4s\n",
      "[CV] max_features=0.3846744858229279, max_depth=16 ...................\n",
      "[CV] .... max_features=0.3846744858229279, max_depth=16, total=   0.4s\n",
      "[CV] max_features=0.3846744858229279, max_depth=16 ...................\n",
      "[CV] .... max_features=0.3846744858229279, max_depth=16, total=   0.4s\n",
      "[CV] max_features=0.3846744858229279, max_depth=16 ...................\n",
      "[CV] .... max_features=0.3846744858229279, max_depth=16, total=   0.4s\n",
      "[CV] max_features=0.6240225219947945, max_depth=5 ....................\n",
      "[CV] ..... max_features=0.6240225219947945, max_depth=5, total=   0.2s\n",
      "[CV] max_features=0.6240225219947945, max_depth=5 ....................\n",
      "[CV] ..... max_features=0.6240225219947945, max_depth=5, total=   0.2s\n",
      "[CV] max_features=0.6240225219947945, max_depth=5 ....................\n",
      "[CV] ..... max_features=0.6240225219947945, max_depth=5, total=   0.2s\n",
      "[CV] max_features=0.6240225219947945, max_depth=5 ....................\n",
      "[CV] ..... max_features=0.6240225219947945, max_depth=5, total=   0.2s\n",
      "[CV] max_features=0.6240225219947945, max_depth=5 ....................\n",
      "[CV] ..... max_features=0.6240225219947945, max_depth=5, total=   0.2s\n",
      "[CV] max_features=0.8568812311690974, max_depth=20 ...................\n",
      "[CV] .... max_features=0.8568812311690974, max_depth=20, total=   0.8s\n",
      "[CV] max_features=0.8568812311690974, max_depth=20 ...................\n",
      "[CV] .... max_features=0.8568812311690974, max_depth=20, total=   0.8s\n",
      "[CV] max_features=0.8568812311690974, max_depth=20 ...................\n",
      "[CV] .... max_features=0.8568812311690974, max_depth=20, total=   0.8s\n",
      "[CV] max_features=0.8568812311690974, max_depth=20 ...................\n",
      "[CV] .... max_features=0.8568812311690974, max_depth=20, total=   0.8s\n",
      "[CV] max_features=0.8568812311690974, max_depth=20 ...................\n",
      "[CV] .... max_features=0.8568812311690974, max_depth=20, total=   0.8s\n",
      "[CV] max_features=0.5662357594713304, max_depth=25 ...................\n",
      "[CV] .... max_features=0.5662357594713304, max_depth=25, total=   0.6s\n",
      "[CV] max_features=0.5662357594713304, max_depth=25 ...................\n",
      "[CV] .... max_features=0.5662357594713304, max_depth=25, total=   0.6s\n",
      "[CV] max_features=0.5662357594713304, max_depth=25 ...................\n",
      "[CV] .... max_features=0.5662357594713304, max_depth=25, total=   0.6s\n",
      "[CV] max_features=0.5662357594713304, max_depth=25 ...................\n",
      "[CV] .... max_features=0.5662357594713304, max_depth=25, total=   0.6s\n",
      "[CV] max_features=0.5662357594713304, max_depth=25 ...................\n",
      "[CV] .... max_features=0.5662357594713304, max_depth=25, total=   0.5s\n",
      "[CV] max_features=0.5662357594713304, max_depth=21 ...................\n",
      "[CV] .... max_features=0.5662357594713304, max_depth=21, total=   0.6s\n",
      "[CV] max_features=0.5662357594713304, max_depth=21 ...................\n",
      "[CV] .... max_features=0.5662357594713304, max_depth=21, total=   0.6s\n",
      "[CV] max_features=0.5662357594713304, max_depth=21 ...................\n",
      "[CV] .... max_features=0.5662357594713304, max_depth=21, total=   0.6s\n",
      "[CV] max_features=0.5662357594713304, max_depth=21 ...................\n",
      "[CV] .... max_features=0.5662357594713304, max_depth=21, total=   0.6s\n",
      "[CV] max_features=0.5662357594713304, max_depth=21 ...................\n",
      "[CV] .... max_features=0.5662357594713304, max_depth=21, total=   0.6s\n",
      "[CV] max_features=0.5662357594713304, max_depth=11 ...................\n",
      "[CV] .... max_features=0.5662357594713304, max_depth=11, total=   0.4s\n",
      "[CV] max_features=0.5662357594713304, max_depth=11 ...................\n",
      "[CV] .... max_features=0.5662357594713304, max_depth=11, total=   0.4s\n",
      "[CV] max_features=0.5662357594713304, max_depth=11 ...................\n",
      "[CV] .... max_features=0.5662357594713304, max_depth=11, total=   0.4s\n",
      "[CV] max_features=0.5662357594713304, max_depth=11 ...................\n",
      "[CV] .... max_features=0.5662357594713304, max_depth=11, total=   0.4s\n",
      "[CV] max_features=0.5662357594713304, max_depth=11 ...................\n",
      "[CV] .... max_features=0.5662357594713304, max_depth=11, total=   0.4s\n"
     ]
    },
    {
     "name": "stderr",
     "output_type": "stream",
     "text": [
      "[Parallel(n_jobs=1)]: Done  50 out of  50 | elapsed:   26.4s finished\n"
     ]
    }
   ],
   "source": [
    "results = []\n",
    "for estimator in estimators:\n",
    "    result = []\n",
    "    max_depth = np.random.randint(5,30,10)\n",
    "    max_features = np.random.uniform(0.3,1.0,10)\n",
    "    param_distributions = {'max_depth':max_depth, 'max_features':max_features}\n",
    "    regressor = RandomizedSearchCV(estimator,\n",
    "                              param_distributions,\n",
    "                              n_iter=10,\n",
    "                              scoring=None,\n",
    "                              cv=5,\n",
    "                              verbose=2,\n",
    "                              random_state=42)\n",
    "    regressor.fit(X_train, y_train)\n",
    "    result.append(estimator.__class__.__name__)\n",
    "    result.append(regressor.best_params_)\n",
    "    result.append(regressor.best_estimator_)\n",
    "    result.append(regressor.best_score_)\n",
    "    result.append(regressor.cv_results_)\n",
    "    results.append(result)"
   ]
  },
  {
   "cell_type": "code",
   "execution_count": 22,
   "metadata": {},
   "outputs": [
    {
     "data": {
      "text/html": [
       "<div>\n",
       "<style scoped>\n",
       "    .dataframe tbody tr th:only-of-type {\n",
       "        vertical-align: middle;\n",
       "    }\n",
       "\n",
       "    .dataframe tbody tr th {\n",
       "        vertical-align: top;\n",
       "    }\n",
       "\n",
       "    .dataframe thead th {\n",
       "        text-align: right;\n",
       "    }\n",
       "</style>\n",
       "<table border=\"1\" class=\"dataframe\">\n",
       "  <thead>\n",
       "    <tr style=\"text-align: right;\">\n",
       "      <th></th>\n",
       "      <th>model</th>\n",
       "      <th>params</th>\n",
       "      <th>estimator</th>\n",
       "      <th>score</th>\n",
       "      <th>cv_result</th>\n",
       "    </tr>\n",
       "  </thead>\n",
       "  <tbody>\n",
       "    <tr>\n",
       "      <th>0</th>\n",
       "      <td>DecisionTreeRegressor</td>\n",
       "      <td>{'max_features': 0.7661764253886678, 'max_dept...</td>\n",
       "      <td>DecisionTreeRegressor(max_depth=5, max_feature...</td>\n",
       "      <td>0.263795</td>\n",
       "      <td>{'mean_fit_time': [0.0071907520294189455, 0.00...</td>\n",
       "    </tr>\n",
       "    <tr>\n",
       "      <th>1</th>\n",
       "      <td>RandomForestRegressor</td>\n",
       "      <td>{'max_features': 0.7810405084366112, 'max_dept...</td>\n",
       "      <td>(DecisionTreeRegressor(max_depth=22, max_featu...</td>\n",
       "      <td>0.470769</td>\n",
       "      <td>{'mean_fit_time': [0.24184880256652833, 0.3371...</td>\n",
       "    </tr>\n",
       "    <tr>\n",
       "      <th>2</th>\n",
       "      <td>GradientBoostingRegressor</td>\n",
       "      <td>{'max_features': 0.6240225219947945, 'max_dept...</td>\n",
       "      <td>([DecisionTreeRegressor(criterion='friedman_ms...</td>\n",
       "      <td>0.452022</td>\n",
       "      <td>{'mean_fit_time': [0.7745186805725097, 0.57764...</td>\n",
       "    </tr>\n",
       "  </tbody>\n",
       "</table>\n",
       "</div>"
      ],
      "text/plain": [
       "                       model  \\\n",
       "0      DecisionTreeRegressor   \n",
       "1      RandomForestRegressor   \n",
       "2  GradientBoostingRegressor   \n",
       "\n",
       "                                              params  \\\n",
       "0  {'max_features': 0.7661764253886678, 'max_dept...   \n",
       "1  {'max_features': 0.7810405084366112, 'max_dept...   \n",
       "2  {'max_features': 0.6240225219947945, 'max_dept...   \n",
       "\n",
       "                                           estimator     score  \\\n",
       "0  DecisionTreeRegressor(max_depth=5, max_feature...  0.263795   \n",
       "1  (DecisionTreeRegressor(max_depth=22, max_featu...  0.470769   \n",
       "2  ([DecisionTreeRegressor(criterion='friedman_ms...  0.452022   \n",
       "\n",
       "                                           cv_result  \n",
       "0  {'mean_fit_time': [0.0071907520294189455, 0.00...  \n",
       "1  {'mean_fit_time': [0.24184880256652833, 0.3371...  \n",
       "2  {'mean_fit_time': [0.7745186805725097, 0.57764...  "
      ]
     },
     "execution_count": 22,
     "metadata": {},
     "output_type": "execute_result"
    }
   ],
   "source": [
    "df_cv = pd.DataFrame(results)\n",
    "df_cv.columns = [\"model\", \"params\", \"estimator\", \"score\", \"cv_result\"]\n",
    "df_cv"
   ]
  },
  {
   "cell_type": "code",
   "execution_count": 23,
   "metadata": {},
   "outputs": [
    {
     "data": {
      "text/plain": [
       "RandomForestRegressor(max_depth=22, max_features=0.7810405084366112,\n",
       "                      random_state=42)"
      ]
     },
     "execution_count": 23,
     "metadata": {},
     "output_type": "execute_result"
    }
   ],
   "source": [
    "best_estimator = df_cv.loc[1,'estimator']\n",
    "best_estimator"
   ]
  },
  {
   "cell_type": "code",
   "execution_count": 24,
   "metadata": {},
   "outputs": [
    {
     "data": {
      "text/plain": [
       "RandomForestRegressor(max_depth=22, max_features=0.7810405084366112,\n",
       "                      random_state=42)"
      ]
     },
     "execution_count": 24,
     "metadata": {},
     "output_type": "execute_result"
    }
   ],
   "source": [
    "best_estimator.fit(X_train, y_train)"
   ]
  },
  {
   "cell_type": "code",
   "execution_count": 25,
   "metadata": {
    "scrolled": true
   },
   "outputs": [
    {
     "name": "stderr",
     "output_type": "stream",
     "text": [
      "[Parallel(n_jobs=1)]: Using backend SequentialBackend with 1 concurrent workers.\n",
      "[Parallel(n_jobs=1)]: Done   1 out of   1 | elapsed:    0.4s remaining:    0.0s\n",
      "[Parallel(n_jobs=1)]: Done   5 out of   5 | elapsed:    2.6s finished\n"
     ]
    },
    {
     "data": {
      "text/plain": [
       "array([ 3730.53846154, 10285.6       , 10598.        ,  3826.75      ,\n",
       "        8795.        ])"
      ]
     },
     "execution_count": 25,
     "metadata": {},
     "output_type": "execute_result"
    }
   ],
   "source": [
    "from sklearn.model_selection import cross_val_predict\n",
    "\n",
    "y_predict = cross_val_predict(best_estimator, X_train, y_train, cv=5, verbose=2)\n",
    "y_predict[:5]"
   ]
  },
  {
   "cell_type": "code",
   "execution_count": 26,
   "metadata": {},
   "outputs": [
    {
     "data": {
      "text/plain": [
       "0.4812752446429913"
      ]
     },
     "execution_count": 26,
     "metadata": {},
     "output_type": "execute_result"
    }
   ],
   "source": [
    "from sklearn.metrics import r2_score\n",
    "r2_score(y_train, y_predict)"
   ]
  },
  {
   "cell_type": "code",
   "execution_count": 35,
   "metadata": {},
   "outputs": [
    {
     "data": {
      "text/plain": [
       "<matplotlib.axes._subplots.AxesSubplot at 0x1e5c5275c40>"
      ]
     },
     "execution_count": 35,
     "metadata": {},
     "output_type": "execute_result"
    },
    {
     "data": {
      "image/png": "[encoded data removed]",
      "text/plain": [
       "<Figure size 432x288 with 1 Axes>"
      ]
     },
     "metadata": {
      "needs_background": "light"
     },
     "output_type": "display_data"
    }
   ],
   "source": [
    "sns.regplot(y_train, y_predict)"
   ]
  },
  {
   "cell_type": "code",
   "execution_count": 28,
   "metadata": {},
   "outputs": [
    {
     "data": {
      "text/plain": [
       "<matplotlib.axes._subplots.AxesSubplot at 0x1e5be4d54f0>"
      ]
     },
     "execution_count": 28,
     "metadata": {},
     "output_type": "execute_result"
    },
    {
     "data": {
      "image/png": "[encoded data removed]",
      "text/plain": [
       "<Figure size 432x288 with 1 Axes>"
      ]
     },
     "metadata": {
      "needs_background": "light"
     },
     "output_type": "display_data"
    }
   ],
   "source": [
    "sns.distplot(y_train, hist=False, label=\"train\")\n",
    "sns.distplot(y_predict, hist=False, label=\"predict\")"
   ]
  },
  {
   "cell_type": "code",
   "execution_count": 29,
   "metadata": {},
   "outputs": [
    {
     "data": {
      "text/plain": [
       "10144.62044359783"
      ]
     },
     "execution_count": 29,
     "metadata": {},
     "output_type": "execute_result"
    }
   ],
   "source": [
    "error = abs(y_train - y_predict)\n",
    "error.mean()"
   ]
  },
  {
   "cell_type": "code",
   "execution_count": 36,
   "metadata": {},
   "outputs": [
    {
     "data": {
      "text/plain": [
       "<matplotlib.axes._subplots.AxesSubplot at 0x1e5c52a59d0>"
      ]
     },
     "execution_count": 36,
     "metadata": {},
     "output_type": "execute_result"
    },
    {
     "data": {
      "image/png": "[encoded data removed]",
      "text/plain": [
       "<Figure size 432x288 with 1 Axes>"
      ]
     },
     "metadata": {
      "needs_background": "light"
     },
     "output_type": "display_data"
    }
   ],
   "source": [
    "sns.distplot(error)"
   ]
  },
  {
   "cell_type": "code",
   "execution_count": 31,
   "metadata": {},
   "outputs": [
    {
     "data": {
      "text/plain": [
       "count      1319.000000\n",
       "mean      10144.620444\n",
       "std       16651.538503\n",
       "min           1.000000\n",
       "25%        1483.516667\n",
       "50%        4188.000000\n",
       "75%       11774.000000\n",
       "max      178510.000000\n",
       "Name: 연봉, dtype: float64"
      ]
     },
     "execution_count": 31,
     "metadata": {},
     "output_type": "execute_result"
    }
   ],
   "source": [
    "error.describe()"
   ]
  },
  {
   "cell_type": "code",
   "execution_count": 34,
   "metadata": {},
   "outputs": [
    {
     "data": {
      "text/plain": [
       "<matplotlib.axes._subplots.AxesSubplot at 0x1e5bfc1b760>"
      ]
     },
     "execution_count": 34,
     "metadata": {},
     "output_type": "execute_result"
    },
    {
     "data": {
      "image/png": "[encoded data removed]",
      "text/plain": [
       "<Figure size 2880x2880 with 1 Axes>"
      ]
     },
     "metadata": {
      "needs_background": "light"
     },
     "output_type": "display_data"
    }
   ],
   "source": [
    "plt.rcParams['font.size']=50\n",
    "plt.figure(figsize=(40,40))\n",
    "sns.barplot(x=best_estimator.feature_importances_, y=feature_names)"
   ]
  },
  {
   "cell_type": "code",
   "execution_count": 81,
   "metadata": {},
   "outputs": [
    {
     "data": {
      "text/plain": [
       "<bound method DataFrame.count of        선수   고4\n",
       "295   김태균  7.0\n",
       "301   김태균  7.0\n",
       "618   손아섭  7.0\n",
       "864   이대호  7.0\n",
       "880   이범호  7.0\n",
       "975   이재원  7.0\n",
       "1052  이호준  7.0\n",
       "1332   최정  7.0\n",
       "1362  최진행  7.0\n",
       "1368  최형우  7.0\n",
       "1369  최형우  7.0\n",
       "1382  최희섭  7.0>"
      ]
     },
     "execution_count": 81,
     "metadata": {},
     "output_type": "execute_result"
    }
   ],
   "source": [
    "df['고4'].describe()\n",
    "df[df['고4']==7][['선수','고4']].count"
   ]
  },
  {
   "cell_type": "code",
   "execution_count": null,
   "metadata": {},
   "outputs": [],
   "source": []
  }
 ],
 "metadata": {
  "kernelspec": {
   "display_name": "Python 3",
   "language": "python",
   "name": "python3"
  },
  "language_info": {
   "codemirror_mode": {
    "name": "ipython",
    "version": 3
   },
   "file_extension": ".py",
   "mimetype": "text/x-python",
   "name": "python",
   "nbconvert_exporter": "python",
   "pygments_lexer": "ipython3",
   "version": "3.8.3"
  }
 },
 "nbformat": 4,
 "nbformat_minor": 4
}
