{
 "cells": [
  {
   "cell_type": "code",
   "execution_count": 57,
   "metadata": {},
   "outputs": [],
   "source": [
    "# matplotlib 한글 출력 가능하도록 만들기\n",
    "from matplotlib import font_manager, rc\n",
    "\n",
    "font_name = font_manager.FontProperties(fname=\"c:/Windows/Fonts/gulim.ttc\").get_name()\n",
    "rc('font', family=font_name)\n",
    "\n",
    "# 데이터 분석 모듈\n",
    "import numpy as np\n",
    "import pandas as pd\n",
    "import seaborn as sns\n",
    "from matplotlib import pyplot as plt\n",
    "\n",
    "plt.rcParams['font.size']=50"
   ]
  },
  {
   "cell_type": "code",
   "execution_count": 2,
   "metadata": {},
   "outputs": [
    {
     "data": {
      "text/html": [
       "<div>\n",
       "<style scoped>\n",
       "    .dataframe tbody tr th:only-of-type {\n",
       "        vertical-align: middle;\n",
       "    }\n",
       "\n",
       "    .dataframe tbody tr th {\n",
       "        vertical-align: top;\n",
       "    }\n",
       "\n",
       "    .dataframe thead th {\n",
       "        text-align: right;\n",
       "    }\n",
       "</style>\n",
       "<table border=\"1\" class=\"dataframe\">\n",
       "  <thead>\n",
       "    <tr style=\"text-align: right;\">\n",
       "      <th></th>\n",
       "      <th>선수</th>\n",
       "      <th>WAR</th>\n",
       "      <th>G</th>\n",
       "      <th>타석</th>\n",
       "      <th>타수</th>\n",
       "      <th>득점</th>\n",
       "      <th>안타</th>\n",
       "      <th>2타</th>\n",
       "      <th>3타</th>\n",
       "      <th>홈런</th>\n",
       "      <th>...</th>\n",
       "      <th>장타</th>\n",
       "      <th>OPS</th>\n",
       "      <th>wOBA</th>\n",
       "      <th>wRC+</th>\n",
       "      <th>WAR+</th>\n",
       "      <th>연도</th>\n",
       "      <th>포지션</th>\n",
       "      <th>생일</th>\n",
       "      <th>연봉</th>\n",
       "      <th>나이</th>\n",
       "    </tr>\n",
       "  </thead>\n",
       "  <tbody>\n",
       "    <tr>\n",
       "      <th>0</th>\n",
       "      <td>강경학</td>\n",
       "      <td>0.25</td>\n",
       "      <td>52</td>\n",
       "      <td>135</td>\n",
       "      <td>113</td>\n",
       "      <td>21</td>\n",
       "      <td>27</td>\n",
       "      <td>4</td>\n",
       "      <td>0</td>\n",
       "      <td>0</td>\n",
       "      <td>...</td>\n",
       "      <td>0.274</td>\n",
       "      <td>0.615</td>\n",
       "      <td>0.297</td>\n",
       "      <td>77.6</td>\n",
       "      <td>0.25</td>\n",
       "      <td>2019</td>\n",
       "      <td>SS</td>\n",
       "      <td>1992-08-11</td>\n",
       "      <td>7800</td>\n",
       "      <td>28</td>\n",
       "    </tr>\n",
       "    <tr>\n",
       "      <th>1</th>\n",
       "      <td>강경학</td>\n",
       "      <td>-0.16</td>\n",
       "      <td>59</td>\n",
       "      <td>93</td>\n",
       "      <td>84</td>\n",
       "      <td>17</td>\n",
       "      <td>18</td>\n",
       "      <td>2</td>\n",
       "      <td>1</td>\n",
       "      <td>0</td>\n",
       "      <td>...</td>\n",
       "      <td>0.262</td>\n",
       "      <td>0.552</td>\n",
       "      <td>0.264</td>\n",
       "      <td>44.1</td>\n",
       "      <td>-0.16</td>\n",
       "      <td>2017</td>\n",
       "      <td>2B</td>\n",
       "      <td>1992-08-11</td>\n",
       "      <td>5800</td>\n",
       "      <td>26</td>\n",
       "    </tr>\n",
       "    <tr>\n",
       "      <th>2</th>\n",
       "      <td>강경학</td>\n",
       "      <td>1.38</td>\n",
       "      <td>77</td>\n",
       "      <td>289</td>\n",
       "      <td>245</td>\n",
       "      <td>42</td>\n",
       "      <td>68</td>\n",
       "      <td>11</td>\n",
       "      <td>1</td>\n",
       "      <td>5</td>\n",
       "      <td>...</td>\n",
       "      <td>0.392</td>\n",
       "      <td>0.774</td>\n",
       "      <td>0.353</td>\n",
       "      <td>101.4</td>\n",
       "      <td>1.38</td>\n",
       "      <td>2018</td>\n",
       "      <td>2B</td>\n",
       "      <td>1992-08-11</td>\n",
       "      <td>5800</td>\n",
       "      <td>27</td>\n",
       "    </tr>\n",
       "    <tr>\n",
       "      <th>3</th>\n",
       "      <td>강경학</td>\n",
       "      <td>0.11</td>\n",
       "      <td>120</td>\n",
       "      <td>376</td>\n",
       "      <td>311</td>\n",
       "      <td>50</td>\n",
       "      <td>80</td>\n",
       "      <td>7</td>\n",
       "      <td>4</td>\n",
       "      <td>2</td>\n",
       "      <td>...</td>\n",
       "      <td>0.325</td>\n",
       "      <td>0.673</td>\n",
       "      <td>0.304</td>\n",
       "      <td>66.4</td>\n",
       "      <td>0.11</td>\n",
       "      <td>2015</td>\n",
       "      <td>SS</td>\n",
       "      <td>1992-08-11</td>\n",
       "      <td>6500</td>\n",
       "      <td>24</td>\n",
       "    </tr>\n",
       "    <tr>\n",
       "      <th>4</th>\n",
       "      <td>강경학</td>\n",
       "      <td>0.21</td>\n",
       "      <td>41</td>\n",
       "      <td>103</td>\n",
       "      <td>86</td>\n",
       "      <td>11</td>\n",
       "      <td>19</td>\n",
       "      <td>2</td>\n",
       "      <td>3</td>\n",
       "      <td>1</td>\n",
       "      <td>...</td>\n",
       "      <td>0.349</td>\n",
       "      <td>0.686</td>\n",
       "      <td>0.316</td>\n",
       "      <td>65.6</td>\n",
       "      <td>0.21</td>\n",
       "      <td>2014</td>\n",
       "      <td>SS</td>\n",
       "      <td>1992-08-11</td>\n",
       "      <td>6500</td>\n",
       "      <td>23</td>\n",
       "    </tr>\n",
       "    <tr>\n",
       "      <th>...</th>\n",
       "      <td>...</td>\n",
       "      <td>...</td>\n",
       "      <td>...</td>\n",
       "      <td>...</td>\n",
       "      <td>...</td>\n",
       "      <td>...</td>\n",
       "      <td>...</td>\n",
       "      <td>...</td>\n",
       "      <td>...</td>\n",
       "      <td>...</td>\n",
       "      <td>...</td>\n",
       "      <td>...</td>\n",
       "      <td>...</td>\n",
       "      <td>...</td>\n",
       "      <td>...</td>\n",
       "      <td>...</td>\n",
       "      <td>...</td>\n",
       "      <td>...</td>\n",
       "      <td>...</td>\n",
       "      <td>...</td>\n",
       "      <td>...</td>\n",
       "    </tr>\n",
       "    <tr>\n",
       "      <th>1473</th>\n",
       "      <td>황재균</td>\n",
       "      <td>4.01</td>\n",
       "      <td>144</td>\n",
       "      <td>596</td>\n",
       "      <td>534</td>\n",
       "      <td>95</td>\n",
       "      <td>155</td>\n",
       "      <td>41</td>\n",
       "      <td>2</td>\n",
       "      <td>26</td>\n",
       "      <td>...</td>\n",
       "      <td>0.521</td>\n",
       "      <td>0.870</td>\n",
       "      <td>0.375</td>\n",
       "      <td>115.4</td>\n",
       "      <td>4.01</td>\n",
       "      <td>2015</td>\n",
       "      <td>3B</td>\n",
       "      <td>1987-07-28</td>\n",
       "      <td>50000</td>\n",
       "      <td>29</td>\n",
       "    </tr>\n",
       "    <tr>\n",
       "      <th>1474</th>\n",
       "      <td>황재균</td>\n",
       "      <td>3.40</td>\n",
       "      <td>142</td>\n",
       "      <td>588</td>\n",
       "      <td>530</td>\n",
       "      <td>76</td>\n",
       "      <td>157</td>\n",
       "      <td>41</td>\n",
       "      <td>3</td>\n",
       "      <td>25</td>\n",
       "      <td>...</td>\n",
       "      <td>0.526</td>\n",
       "      <td>0.885</td>\n",
       "      <td>0.376</td>\n",
       "      <td>115.5</td>\n",
       "      <td>3.40</td>\n",
       "      <td>2018</td>\n",
       "      <td>3B</td>\n",
       "      <td>1987-07-28</td>\n",
       "      <td>120000</td>\n",
       "      <td>32</td>\n",
       "    </tr>\n",
       "    <tr>\n",
       "      <th>1475</th>\n",
       "      <td>황재균</td>\n",
       "      <td>3.04</td>\n",
       "      <td>128</td>\n",
       "      <td>559</td>\n",
       "      <td>489</td>\n",
       "      <td>70</td>\n",
       "      <td>134</td>\n",
       "      <td>29</td>\n",
       "      <td>3</td>\n",
       "      <td>7</td>\n",
       "      <td>...</td>\n",
       "      <td>0.389</td>\n",
       "      <td>0.738</td>\n",
       "      <td>0.342</td>\n",
       "      <td>100.2</td>\n",
       "      <td>3.04</td>\n",
       "      <td>2013</td>\n",
       "      <td>3B</td>\n",
       "      <td>1987-07-28</td>\n",
       "      <td>19000</td>\n",
       "      <td>27</td>\n",
       "    </tr>\n",
       "    <tr>\n",
       "      <th>1476</th>\n",
       "      <td>황재균</td>\n",
       "      <td>3.98</td>\n",
       "      <td>128</td>\n",
       "      <td>550</td>\n",
       "      <td>486</td>\n",
       "      <td>66</td>\n",
       "      <td>156</td>\n",
       "      <td>33</td>\n",
       "      <td>3</td>\n",
       "      <td>12</td>\n",
       "      <td>...</td>\n",
       "      <td>0.475</td>\n",
       "      <td>0.864</td>\n",
       "      <td>0.386</td>\n",
       "      <td>117.4</td>\n",
       "      <td>3.98</td>\n",
       "      <td>2014</td>\n",
       "      <td>3B</td>\n",
       "      <td>1987-07-28</td>\n",
       "      <td>50000</td>\n",
       "      <td>28</td>\n",
       "    </tr>\n",
       "    <tr>\n",
       "      <th>1477</th>\n",
       "      <td>황진수</td>\n",
       "      <td>0.65</td>\n",
       "      <td>60</td>\n",
       "      <td>133</td>\n",
       "      <td>117</td>\n",
       "      <td>18</td>\n",
       "      <td>34</td>\n",
       "      <td>6</td>\n",
       "      <td>2</td>\n",
       "      <td>1</td>\n",
       "      <td>...</td>\n",
       "      <td>0.402</td>\n",
       "      <td>0.761</td>\n",
       "      <td>0.341</td>\n",
       "      <td>94.5</td>\n",
       "      <td>0.65</td>\n",
       "      <td>2017</td>\n",
       "      <td>3B</td>\n",
       "      <td>1989-02-15</td>\n",
       "      <td>6200</td>\n",
       "      <td>29</td>\n",
       "    </tr>\n",
       "  </tbody>\n",
       "</table>\n",
       "<p>1478 rows × 33 columns</p>\n",
       "</div>"
      ],
      "text/plain": [
       "       선수   WAR    G   타석   타수  득점   안타  2타  3타  홈런  ...     장타    OPS   wOBA  \\\n",
       "0     강경학  0.25   52  135  113  21   27   4   0   0  ...  0.274  0.615  0.297   \n",
       "1     강경학 -0.16   59   93   84  17   18   2   1   0  ...  0.262  0.552  0.264   \n",
       "2     강경학  1.38   77  289  245  42   68  11   1   5  ...  0.392  0.774  0.353   \n",
       "3     강경학  0.11  120  376  311  50   80   7   4   2  ...  0.325  0.673  0.304   \n",
       "4     강경학  0.21   41  103   86  11   19   2   3   1  ...  0.349  0.686  0.316   \n",
       "...   ...   ...  ...  ...  ...  ..  ...  ..  ..  ..  ...    ...    ...    ...   \n",
       "1473  황재균  4.01  144  596  534  95  155  41   2  26  ...  0.521  0.870  0.375   \n",
       "1474  황재균  3.40  142  588  530  76  157  41   3  25  ...  0.526  0.885  0.376   \n",
       "1475  황재균  3.04  128  559  489  70  134  29   3   7  ...  0.389  0.738  0.342   \n",
       "1476  황재균  3.98  128  550  486  66  156  33   3  12  ...  0.475  0.864  0.386   \n",
       "1477  황진수  0.65   60  133  117  18   34   6   2   1  ...  0.402  0.761  0.341   \n",
       "\n",
       "       wRC+  WAR+    연도  포지션          생일      연봉  나이  \n",
       "0      77.6  0.25  2019   SS  1992-08-11    7800  28  \n",
       "1      44.1 -0.16  2017   2B  1992-08-11    5800  26  \n",
       "2     101.4  1.38  2018   2B  1992-08-11    5800  27  \n",
       "3      66.4  0.11  2015   SS  1992-08-11    6500  24  \n",
       "4      65.6  0.21  2014   SS  1992-08-11    6500  23  \n",
       "...     ...   ...   ...  ...         ...     ...  ..  \n",
       "1473  115.4  4.01  2015   3B  1987-07-28   50000  29  \n",
       "1474  115.5  3.40  2018   3B  1987-07-28  120000  32  \n",
       "1475  100.2  3.04  2013   3B  1987-07-28   19000  27  \n",
       "1476  117.4  3.98  2014   3B  1987-07-28   50000  28  \n",
       "1477   94.5  0.65  2017   3B  1989-02-15    6200  29  \n",
       "\n",
       "[1478 rows x 33 columns]"
      ]
     },
     "execution_count": 2,
     "metadata": {},
     "output_type": "execute_result"
    }
   ],
   "source": [
    "# third_crawler로 만든 데이터 로드\n",
    "df = pd.read_csv('data/statiz_final.csv')\n",
    "\n",
    "# 해당 데이터셋 선수명으로 정렬 및 인덱스 정리\n",
    "df = df.sort_values(['선수'])\n",
    "df = df.reset_index(drop=True)\n",
    "del df['Unnamed: 0']\n",
    "df"
   ]
  },
  {
   "cell_type": "code",
   "execution_count": 3,
   "metadata": {},
   "outputs": [
    {
     "data": {
      "text/html": [
       "<div>\n",
       "<style scoped>\n",
       "    .dataframe tbody tr th:only-of-type {\n",
       "        vertical-align: middle;\n",
       "    }\n",
       "\n",
       "    .dataframe tbody tr th {\n",
       "        vertical-align: top;\n",
       "    }\n",
       "\n",
       "    .dataframe thead th {\n",
       "        text-align: right;\n",
       "    }\n",
       "</style>\n",
       "<table border=\"1\" class=\"dataframe\">\n",
       "  <thead>\n",
       "    <tr style=\"text-align: right;\">\n",
       "      <th></th>\n",
       "      <th>선수</th>\n",
       "      <th>WAR</th>\n",
       "      <th>G</th>\n",
       "      <th>타석</th>\n",
       "      <th>타수</th>\n",
       "      <th>득점</th>\n",
       "      <th>안타</th>\n",
       "      <th>2타</th>\n",
       "      <th>3타</th>\n",
       "      <th>홈런</th>\n",
       "      <th>...</th>\n",
       "      <th>장타</th>\n",
       "      <th>OPS</th>\n",
       "      <th>wOBA</th>\n",
       "      <th>wRC+</th>\n",
       "      <th>WAR+</th>\n",
       "      <th>연도</th>\n",
       "      <th>포지션</th>\n",
       "      <th>생일</th>\n",
       "      <th>연봉</th>\n",
       "      <th>나이</th>\n",
       "    </tr>\n",
       "  </thead>\n",
       "  <tbody>\n",
       "    <tr>\n",
       "      <th>0</th>\n",
       "      <td>강경학</td>\n",
       "      <td>0.25</td>\n",
       "      <td>52</td>\n",
       "      <td>135</td>\n",
       "      <td>113</td>\n",
       "      <td>21</td>\n",
       "      <td>27</td>\n",
       "      <td>4</td>\n",
       "      <td>0</td>\n",
       "      <td>0</td>\n",
       "      <td>...</td>\n",
       "      <td>0.274</td>\n",
       "      <td>0.615</td>\n",
       "      <td>0.297</td>\n",
       "      <td>77.6</td>\n",
       "      <td>0.25</td>\n",
       "      <td>2019</td>\n",
       "      <td>SS</td>\n",
       "      <td>1992-08-11</td>\n",
       "      <td>7800</td>\n",
       "      <td>28</td>\n",
       "    </tr>\n",
       "    <tr>\n",
       "      <th>1</th>\n",
       "      <td>강경학</td>\n",
       "      <td>-0.16</td>\n",
       "      <td>59</td>\n",
       "      <td>93</td>\n",
       "      <td>84</td>\n",
       "      <td>17</td>\n",
       "      <td>18</td>\n",
       "      <td>2</td>\n",
       "      <td>1</td>\n",
       "      <td>0</td>\n",
       "      <td>...</td>\n",
       "      <td>0.262</td>\n",
       "      <td>0.552</td>\n",
       "      <td>0.264</td>\n",
       "      <td>44.1</td>\n",
       "      <td>-0.16</td>\n",
       "      <td>2017</td>\n",
       "      <td>2B</td>\n",
       "      <td>1992-08-11</td>\n",
       "      <td>5800</td>\n",
       "      <td>26</td>\n",
       "    </tr>\n",
       "    <tr>\n",
       "      <th>2</th>\n",
       "      <td>강경학</td>\n",
       "      <td>1.38</td>\n",
       "      <td>77</td>\n",
       "      <td>289</td>\n",
       "      <td>245</td>\n",
       "      <td>42</td>\n",
       "      <td>68</td>\n",
       "      <td>11</td>\n",
       "      <td>1</td>\n",
       "      <td>5</td>\n",
       "      <td>...</td>\n",
       "      <td>0.392</td>\n",
       "      <td>0.774</td>\n",
       "      <td>0.353</td>\n",
       "      <td>101.4</td>\n",
       "      <td>1.38</td>\n",
       "      <td>2018</td>\n",
       "      <td>2B</td>\n",
       "      <td>1992-08-11</td>\n",
       "      <td>5800</td>\n",
       "      <td>27</td>\n",
       "    </tr>\n",
       "    <tr>\n",
       "      <th>3</th>\n",
       "      <td>강경학</td>\n",
       "      <td>0.11</td>\n",
       "      <td>120</td>\n",
       "      <td>376</td>\n",
       "      <td>311</td>\n",
       "      <td>50</td>\n",
       "      <td>80</td>\n",
       "      <td>7</td>\n",
       "      <td>4</td>\n",
       "      <td>2</td>\n",
       "      <td>...</td>\n",
       "      <td>0.325</td>\n",
       "      <td>0.673</td>\n",
       "      <td>0.304</td>\n",
       "      <td>66.4</td>\n",
       "      <td>0.11</td>\n",
       "      <td>2015</td>\n",
       "      <td>SS</td>\n",
       "      <td>1992-08-11</td>\n",
       "      <td>6500</td>\n",
       "      <td>24</td>\n",
       "    </tr>\n",
       "    <tr>\n",
       "      <th>4</th>\n",
       "      <td>강경학</td>\n",
       "      <td>0.21</td>\n",
       "      <td>41</td>\n",
       "      <td>103</td>\n",
       "      <td>86</td>\n",
       "      <td>11</td>\n",
       "      <td>19</td>\n",
       "      <td>2</td>\n",
       "      <td>3</td>\n",
       "      <td>1</td>\n",
       "      <td>...</td>\n",
       "      <td>0.349</td>\n",
       "      <td>0.686</td>\n",
       "      <td>0.316</td>\n",
       "      <td>65.6</td>\n",
       "      <td>0.21</td>\n",
       "      <td>2014</td>\n",
       "      <td>SS</td>\n",
       "      <td>1992-08-11</td>\n",
       "      <td>6500</td>\n",
       "      <td>23</td>\n",
       "    </tr>\n",
       "    <tr>\n",
       "      <th>...</th>\n",
       "      <td>...</td>\n",
       "      <td>...</td>\n",
       "      <td>...</td>\n",
       "      <td>...</td>\n",
       "      <td>...</td>\n",
       "      <td>...</td>\n",
       "      <td>...</td>\n",
       "      <td>...</td>\n",
       "      <td>...</td>\n",
       "      <td>...</td>\n",
       "      <td>...</td>\n",
       "      <td>...</td>\n",
       "      <td>...</td>\n",
       "      <td>...</td>\n",
       "      <td>...</td>\n",
       "      <td>...</td>\n",
       "      <td>...</td>\n",
       "      <td>...</td>\n",
       "      <td>...</td>\n",
       "      <td>...</td>\n",
       "      <td>...</td>\n",
       "    </tr>\n",
       "    <tr>\n",
       "      <th>1473</th>\n",
       "      <td>황재균</td>\n",
       "      <td>4.01</td>\n",
       "      <td>144</td>\n",
       "      <td>596</td>\n",
       "      <td>534</td>\n",
       "      <td>95</td>\n",
       "      <td>155</td>\n",
       "      <td>41</td>\n",
       "      <td>2</td>\n",
       "      <td>26</td>\n",
       "      <td>...</td>\n",
       "      <td>0.521</td>\n",
       "      <td>0.870</td>\n",
       "      <td>0.375</td>\n",
       "      <td>115.4</td>\n",
       "      <td>4.01</td>\n",
       "      <td>2015</td>\n",
       "      <td>3B</td>\n",
       "      <td>1987-07-28</td>\n",
       "      <td>50000</td>\n",
       "      <td>29</td>\n",
       "    </tr>\n",
       "    <tr>\n",
       "      <th>1474</th>\n",
       "      <td>황재균</td>\n",
       "      <td>3.40</td>\n",
       "      <td>142</td>\n",
       "      <td>588</td>\n",
       "      <td>530</td>\n",
       "      <td>76</td>\n",
       "      <td>157</td>\n",
       "      <td>41</td>\n",
       "      <td>3</td>\n",
       "      <td>25</td>\n",
       "      <td>...</td>\n",
       "      <td>0.526</td>\n",
       "      <td>0.885</td>\n",
       "      <td>0.376</td>\n",
       "      <td>115.5</td>\n",
       "      <td>3.40</td>\n",
       "      <td>2018</td>\n",
       "      <td>3B</td>\n",
       "      <td>1987-07-28</td>\n",
       "      <td>120000</td>\n",
       "      <td>32</td>\n",
       "    </tr>\n",
       "    <tr>\n",
       "      <th>1475</th>\n",
       "      <td>황재균</td>\n",
       "      <td>3.04</td>\n",
       "      <td>128</td>\n",
       "      <td>559</td>\n",
       "      <td>489</td>\n",
       "      <td>70</td>\n",
       "      <td>134</td>\n",
       "      <td>29</td>\n",
       "      <td>3</td>\n",
       "      <td>7</td>\n",
       "      <td>...</td>\n",
       "      <td>0.389</td>\n",
       "      <td>0.738</td>\n",
       "      <td>0.342</td>\n",
       "      <td>100.2</td>\n",
       "      <td>3.04</td>\n",
       "      <td>2013</td>\n",
       "      <td>3B</td>\n",
       "      <td>1987-07-28</td>\n",
       "      <td>19000</td>\n",
       "      <td>27</td>\n",
       "    </tr>\n",
       "    <tr>\n",
       "      <th>1476</th>\n",
       "      <td>황재균</td>\n",
       "      <td>3.98</td>\n",
       "      <td>128</td>\n",
       "      <td>550</td>\n",
       "      <td>486</td>\n",
       "      <td>66</td>\n",
       "      <td>156</td>\n",
       "      <td>33</td>\n",
       "      <td>3</td>\n",
       "      <td>12</td>\n",
       "      <td>...</td>\n",
       "      <td>0.475</td>\n",
       "      <td>0.864</td>\n",
       "      <td>0.386</td>\n",
       "      <td>117.4</td>\n",
       "      <td>3.98</td>\n",
       "      <td>2014</td>\n",
       "      <td>3B</td>\n",
       "      <td>1987-07-28</td>\n",
       "      <td>50000</td>\n",
       "      <td>28</td>\n",
       "    </tr>\n",
       "    <tr>\n",
       "      <th>1477</th>\n",
       "      <td>황진수</td>\n",
       "      <td>0.65</td>\n",
       "      <td>60</td>\n",
       "      <td>133</td>\n",
       "      <td>117</td>\n",
       "      <td>18</td>\n",
       "      <td>34</td>\n",
       "      <td>6</td>\n",
       "      <td>2</td>\n",
       "      <td>1</td>\n",
       "      <td>...</td>\n",
       "      <td>0.402</td>\n",
       "      <td>0.761</td>\n",
       "      <td>0.341</td>\n",
       "      <td>94.5</td>\n",
       "      <td>0.65</td>\n",
       "      <td>2017</td>\n",
       "      <td>3B</td>\n",
       "      <td>1989-02-15</td>\n",
       "      <td>6200</td>\n",
       "      <td>29</td>\n",
       "    </tr>\n",
       "  </tbody>\n",
       "</table>\n",
       "<p>1463 rows × 33 columns</p>\n",
       "</div>"
      ],
      "text/plain": [
       "       선수   WAR    G   타석   타수  득점   안타  2타  3타  홈런  ...     장타    OPS   wOBA  \\\n",
       "0     강경학  0.25   52  135  113  21   27   4   0   0  ...  0.274  0.615  0.297   \n",
       "1     강경학 -0.16   59   93   84  17   18   2   1   0  ...  0.262  0.552  0.264   \n",
       "2     강경학  1.38   77  289  245  42   68  11   1   5  ...  0.392  0.774  0.353   \n",
       "3     강경학  0.11  120  376  311  50   80   7   4   2  ...  0.325  0.673  0.304   \n",
       "4     강경학  0.21   41  103   86  11   19   2   3   1  ...  0.349  0.686  0.316   \n",
       "...   ...   ...  ...  ...  ...  ..  ...  ..  ..  ..  ...    ...    ...    ...   \n",
       "1473  황재균  4.01  144  596  534  95  155  41   2  26  ...  0.521  0.870  0.375   \n",
       "1474  황재균  3.40  142  588  530  76  157  41   3  25  ...  0.526  0.885  0.376   \n",
       "1475  황재균  3.04  128  559  489  70  134  29   3   7  ...  0.389  0.738  0.342   \n",
       "1476  황재균  3.98  128  550  486  66  156  33   3  12  ...  0.475  0.864  0.386   \n",
       "1477  황진수  0.65   60  133  117  18   34   6   2   1  ...  0.402  0.761  0.341   \n",
       "\n",
       "       wRC+  WAR+    연도  포지션          생일      연봉  나이  \n",
       "0      77.6  0.25  2019   SS  1992-08-11    7800  28  \n",
       "1      44.1 -0.16  2017   2B  1992-08-11    5800  26  \n",
       "2     101.4  1.38  2018   2B  1992-08-11    5800  27  \n",
       "3      66.4  0.11  2015   SS  1992-08-11    6500  24  \n",
       "4      65.6  0.21  2014   SS  1992-08-11    6500  23  \n",
       "...     ...   ...   ...  ...         ...     ...  ..  \n",
       "1473  115.4  4.01  2015   3B  1987-07-28   50000  29  \n",
       "1474  115.5  3.40  2018   3B  1987-07-28  120000  32  \n",
       "1475  100.2  3.04  2013   3B  1987-07-28   19000  27  \n",
       "1476  117.4  3.98  2014   3B  1987-07-28   50000  28  \n",
       "1477   94.5  0.65  2017   3B  1989-02-15    6200  29  \n",
       "\n",
       "[1463 rows x 33 columns]"
      ]
     },
     "execution_count": 3,
     "metadata": {},
     "output_type": "execute_result"
    }
   ],
   "source": [
    "df.drop([211,673,1311,1312,33,51,386,387,488,697,1041,1145,383,384,385], inplace=True)\n",
    "df"
   ]
  },
  {
   "cell_type": "code",
   "execution_count": 4,
   "metadata": {},
   "outputs": [],
   "source": [
    "df['연봉'] = df['연봉'].astype(int)\n",
    "# 해당 데이터셋 선수명으로 정렬 및 인덱스 정리\n",
    "df = df.sort_values(['선수'])\n",
    "df = df.reset_index(drop=True)"
   ]
  },
  {
   "cell_type": "code",
   "execution_count": 5,
   "metadata": {},
   "outputs": [],
   "source": [
    "df.loc[df['연도']==2019, '연봉']=0"
   ]
  },
  {
   "cell_type": "code",
   "execution_count": 6,
   "metadata": {},
   "outputs": [
    {
     "name": "stdout",
     "output_type": "stream",
     "text": [
      "(1319, 33)\n"
     ]
    }
   ],
   "source": [
    "# if 연봉 >0 -> train/ else -> test\n",
    "train = df[df['연봉'] > 0].copy()\n",
    "print(train.shape)"
   ]
  },
  {
   "cell_type": "code",
   "execution_count": 7,
   "metadata": {},
   "outputs": [
    {
     "name": "stdout",
     "output_type": "stream",
     "text": [
      "(144, 33)\n"
     ]
    }
   ],
   "source": [
    "test = df[df['연봉'] == 0].copy()\n",
    "print(test.shape)"
   ]
  },
  {
   "cell_type": "code",
   "execution_count": 8,
   "metadata": {},
   "outputs": [],
   "source": [
    "# feature 에 쓰이지 않을 정보들 제외\n",
    "feature_names = test.columns.tolist()\n",
    "feature_names.remove(\"선수\")\n",
    "feature_names.remove(\"연도\")\n",
    "feature_names.remove(\"생일\")\n",
    "feature_names.remove(\"연봉\")\n",
    "feature_names.remove(\"포지션\")"
   ]
  },
  {
   "cell_type": "code",
   "execution_count": 9,
   "metadata": {},
   "outputs": [
    {
     "name": "stderr",
     "output_type": "stream",
     "text": [
      "<ipython-input-9-0fc76782340f>:1: FutureWarning: The pandas.np module is deprecated and will be removed from pandas in a future version. Import numpy directly instead\n",
      "  train = train.replace(pd.np.nan, 0)\n",
      "<ipython-input-9-0fc76782340f>:2: FutureWarning: The pandas.np module is deprecated and will be removed from pandas in a future version. Import numpy directly instead\n",
      "  test = test.replace(pd.np.nan, 0)\n"
     ]
    }
   ],
   "source": [
    "train = train.replace(pd.np.nan, 0)\n",
    "test = test.replace(pd.np.nan, 0)"
   ]
  },
  {
   "cell_type": "code",
   "execution_count": 17,
   "metadata": {},
   "outputs": [
    {
     "name": "stdout",
     "output_type": "stream",
     "text": [
      "1319\n"
     ]
    }
   ],
   "source": [
    "# 예측값 라벨링, label = 연봉\n",
    "label_name = '연봉'\n",
    "\n",
    "X_train = train[feature_names].astype(int)\n",
    "y_train = train[label_name]\n",
    "\n",
    "X_test = test[feature_names].astype(int)\n",
    "y_test = test[label_name]\n",
    "\n",
    "print(len(y_train))"
   ]
  },
  {
   "cell_type": "code",
   "execution_count": 18,
   "metadata": {},
   "outputs": [],
   "source": [
    "from sklearn.tree import DecisionTreeRegressor\n",
    "\n",
    "model = DecisionTreeRegressor(random_state=42)"
   ]
  },
  {
   "cell_type": "code",
   "execution_count": 19,
   "metadata": {},
   "outputs": [],
   "source": [
    "#scikit-learn 모듈 로드\n",
    "from sklearn.model_selection import RandomizedSearchCV\n",
    "\n",
    "max_depth = np.random.randint(5,30,10)\n",
    "max_features = np.random.uniform(0.3,1.0,10)\n",
    "param_distributions = {'max_depth':max_depth, 'max_features':max_features}\n",
    "regressor = RandomizedSearchCV(model,\n",
    "                              param_distributions,\n",
    "                              n_iter=10,\n",
    "                              scoring=None,\n",
    "                              cv=5,\n",
    "                              verbose=2,\n",
    "                              random_state=52)"
   ]
  },
  {
   "cell_type": "code",
   "execution_count": 20,
   "metadata": {},
   "outputs": [
    {
     "name": "stdout",
     "output_type": "stream",
     "text": [
      "Fitting 5 folds for each of 10 candidates, totalling 50 fits\n",
      "[CV] max_features=0.3024448167042372, max_depth=25 ...................\n",
      "[CV] .... max_features=0.3024448167042372, max_depth=25, total=   0.0s\n",
      "[CV] max_features=0.3024448167042372, max_depth=25 ...................\n",
      "[CV] .... max_features=0.3024448167042372, max_depth=25, total=   0.0s\n",
      "[CV] max_features=0.3024448167042372, max_depth=25 ...................\n",
      "[CV] .... max_features=0.3024448167042372, max_depth=25, total=   0.0s\n",
      "[CV] max_features=0.3024448167042372, max_depth=25 ...................\n",
      "[CV] .... max_features=0.3024448167042372, max_depth=25, total=   0.0s\n",
      "[CV] max_features=0.3024448167042372, max_depth=25 ...................\n",
      "[CV] .... max_features=0.3024448167042372, max_depth=25, total=   0.0s\n",
      "[CV] max_features=0.6105907002099957, max_depth=29 ...................\n",
      "[CV] .... max_features=0.6105907002099957, max_depth=29, total=   0.0s\n",
      "[CV] max_features=0.6105907002099957, max_depth=29 ...................\n",
      "[CV] .... max_features=0.6105907002099957, max_depth=29, total=   0.0s\n",
      "[CV] max_features=0.6105907002099957, max_depth=29 ...................\n",
      "[CV] .... max_features=0.6105907002099957, max_depth=29, total=   0.0s\n",
      "[CV] max_features=0.6105907002099957, max_depth=29 ...................\n",
      "[CV] .... max_features=0.6105907002099957, max_depth=29, total=   0.0s\n",
      "[CV] max_features=0.6105907002099957, max_depth=29 ...................\n",
      "[CV] .... max_features=0.6105907002099957, max_depth=29, total=   0.0s\n",
      "[CV] max_features=0.7852861825768197, max_depth=28 ...................\n",
      "[CV] .... max_features=0.7852861825768197, max_depth=28, total=   0.0s\n",
      "[CV] max_features=0.7852861825768197, max_depth=28 ...................\n",
      "[CV] .... max_features=0.7852861825768197, max_depth=28, total=   0.0s\n",
      "[CV] max_features=0.7852861825768197, max_depth=28 ...................\n",
      "[CV] .... max_features=0.7852861825768197, max_depth=28, total=   0.0s\n",
      "[CV] max_features=0.7852861825768197, max_depth=28 ...................\n",
      "[CV] .... max_features=0.7852861825768197, max_depth=28, total=   0.0s\n",
      "[CV] max_features=0.7852861825768197, max_depth=28 ...................\n"
     ]
    },
    {
     "name": "stderr",
     "output_type": "stream",
     "text": [
      "[Parallel(n_jobs=1)]: Using backend SequentialBackend with 1 concurrent workers.\n",
      "[Parallel(n_jobs=1)]: Done   1 out of   1 | elapsed:    0.0s remaining:    0.0s\n"
     ]
    },
    {
     "name": "stdout",
     "output_type": "stream",
     "text": [
      "[CV] .... max_features=0.7852861825768197, max_depth=28, total=   0.0s\n",
      "[CV] max_features=0.43580911168916076, max_depth=15 ..................\n",
      "[CV] ... max_features=0.43580911168916076, max_depth=15, total=   0.0s\n",
      "[CV] max_features=0.43580911168916076, max_depth=15 ..................\n",
      "[CV] ... max_features=0.43580911168916076, max_depth=15, total=   0.0s\n",
      "[CV] max_features=0.43580911168916076, max_depth=15 ..................\n",
      "[CV] ... max_features=0.43580911168916076, max_depth=15, total=   0.0s\n",
      "[CV] max_features=0.43580911168916076, max_depth=15 ..................\n",
      "[CV] ... max_features=0.43580911168916076, max_depth=15, total=   0.0s\n",
      "[CV] max_features=0.43580911168916076, max_depth=15 ..................\n",
      "[CV] ... max_features=0.43580911168916076, max_depth=15, total=   0.0s\n",
      "[CV] max_features=0.3024448167042372, max_depth=29 ...................\n",
      "[CV] .... max_features=0.3024448167042372, max_depth=29, total=   0.0s\n",
      "[CV] max_features=0.3024448167042372, max_depth=29 ...................\n",
      "[CV] .... max_features=0.3024448167042372, max_depth=29, total=   0.0s\n",
      "[CV] max_features=0.3024448167042372, max_depth=29 ...................\n",
      "[CV] .... max_features=0.3024448167042372, max_depth=29, total=   0.0s\n",
      "[CV] max_features=0.3024448167042372, max_depth=29 ...................\n",
      "[CV] .... max_features=0.3024448167042372, max_depth=29, total=   0.0s\n",
      "[CV] max_features=0.3024448167042372, max_depth=29 ...................\n",
      "[CV] .... max_features=0.3024448167042372, max_depth=29, total=   0.0s\n",
      "[CV] max_features=0.43857729965866116, max_depth=29 ..................\n",
      "[CV] ... max_features=0.43857729965866116, max_depth=29, total=   0.0s\n",
      "[CV] max_features=0.43857729965866116, max_depth=29 ..................\n",
      "[CV] ... max_features=0.43857729965866116, max_depth=29, total=   0.0s\n",
      "[CV] max_features=0.43857729965866116, max_depth=29 ..................\n",
      "[CV] ... max_features=0.43857729965866116, max_depth=29, total=   0.0s\n",
      "[CV] max_features=0.43857729965866116, max_depth=29 ..................\n",
      "[CV] ... max_features=0.43857729965866116, max_depth=29, total=   0.0s\n",
      "[CV] max_features=0.43857729965866116, max_depth=29 ..................\n",
      "[CV] ... max_features=0.43857729965866116, max_depth=29, total=   0.0s\n",
      "[CV] max_features=0.5572250190479291, max_depth=6 ....................\n",
      "[CV] ..... max_features=0.5572250190479291, max_depth=6, total=   0.0s\n",
      "[CV] max_features=0.5572250190479291, max_depth=6 ....................\n",
      "[CV] ..... max_features=0.5572250190479291, max_depth=6, total=   0.0s\n",
      "[CV] max_features=0.5572250190479291, max_depth=6 ....................\n",
      "[CV] ..... max_features=0.5572250190479291, max_depth=6, total=   0.0s\n",
      "[CV] max_features=0.5572250190479291, max_depth=6 ....................\n",
      "[CV] ..... max_features=0.5572250190479291, max_depth=6, total=   0.0s\n",
      "[CV] max_features=0.5572250190479291, max_depth=6 ....................\n",
      "[CV] ..... max_features=0.5572250190479291, max_depth=6, total=   0.0s\n",
      "[CV] max_features=0.43580911168916076, max_depth=25 ..................\n",
      "[CV] ... max_features=0.43580911168916076, max_depth=25, total=   0.0s\n",
      "[CV] max_features=0.43580911168916076, max_depth=25 ..................\n",
      "[CV] ... max_features=0.43580911168916076, max_depth=25, total=   0.0s\n",
      "[CV] max_features=0.43580911168916076, max_depth=25 ..................\n",
      "[CV] ... max_features=0.43580911168916076, max_depth=25, total=   0.0s\n",
      "[CV] max_features=0.43580911168916076, max_depth=25 ..................\n",
      "[CV] ... max_features=0.43580911168916076, max_depth=25, total=   0.0s\n",
      "[CV] max_features=0.43580911168916076, max_depth=25 ..................\n",
      "[CV] ... max_features=0.43580911168916076, max_depth=25, total=   0.0s\n",
      "[CV] max_features=0.5572250190479291, max_depth=12 ...................\n",
      "[CV] .... max_features=0.5572250190479291, max_depth=12, total=   0.0s\n",
      "[CV] max_features=0.5572250190479291, max_depth=12 ...................\n",
      "[CV] .... max_features=0.5572250190479291, max_depth=12, total=   0.0s\n",
      "[CV] max_features=0.5572250190479291, max_depth=12 ...................\n",
      "[CV] .... max_features=0.5572250190479291, max_depth=12, total=   0.0s\n",
      "[CV] max_features=0.5572250190479291, max_depth=12 ...................\n",
      "[CV] .... max_features=0.5572250190479291, max_depth=12, total=   0.0s\n",
      "[CV] max_features=0.5572250190479291, max_depth=12 ...................\n",
      "[CV] .... max_features=0.5572250190479291, max_depth=12, total=   0.0s\n",
      "[CV] max_features=0.6105907002099957, max_depth=15 ...................\n",
      "[CV] .... max_features=0.6105907002099957, max_depth=15, total=   0.0s\n",
      "[CV] max_features=0.6105907002099957, max_depth=15 ...................\n",
      "[CV] .... max_features=0.6105907002099957, max_depth=15, total=   0.0s\n",
      "[CV] max_features=0.6105907002099957, max_depth=15 ...................\n",
      "[CV] .... max_features=0.6105907002099957, max_depth=15, total=   0.0s\n",
      "[CV] max_features=0.6105907002099957, max_depth=15 ...................\n",
      "[CV] .... max_features=0.6105907002099957, max_depth=15, total=   0.0s\n",
      "[CV] max_features=0.6105907002099957, max_depth=15 ...................\n",
      "[CV] .... max_features=0.6105907002099957, max_depth=15, total=   0.0s\n"
     ]
    },
    {
     "name": "stderr",
     "output_type": "stream",
     "text": [
      "[Parallel(n_jobs=1)]: Done  50 out of  50 | elapsed:    0.5s finished\n"
     ]
    },
    {
     "data": {
      "text/plain": [
       "RandomizedSearchCV(cv=5, estimator=DecisionTreeRegressor(random_state=42),\n",
       "                   param_distributions={'max_depth': array([29, 15,  8,  6, 28, 25, 12, 29, 25, 25]),\n",
       "                                        'max_features': array([0.31314234, 0.89924871, 0.30244482, 0.4385773 , 0.78528618,\n",
       "       0.69980578, 0.32431609, 0.55722502, 0.6105907 , 0.43580911])},\n",
       "                   random_state=52, verbose=2)"
      ]
     },
     "execution_count": 20,
     "metadata": {},
     "output_type": "execute_result"
    }
   ],
   "source": [
    "regressor.fit(X_train, y_train)"
   ]
  },
  {
   "cell_type": "code",
   "execution_count": 21,
   "metadata": {},
   "outputs": [
    {
     "data": {
      "text/plain": [
       "{'max_features': 0.7852861825768197, 'max_depth': 28}"
      ]
     },
     "execution_count": 21,
     "metadata": {},
     "output_type": "execute_result"
    }
   ],
   "source": [
    "regressor.best_params_"
   ]
  },
  {
   "cell_type": "code",
   "execution_count": 22,
   "metadata": {},
   "outputs": [
    {
     "data": {
      "text/plain": [
       "0.07678170371715236"
      ]
     },
     "execution_count": 22,
     "metadata": {},
     "output_type": "execute_result"
    }
   ],
   "source": [
    "regressor.best_score_"
   ]
  },
  {
   "cell_type": "code",
   "execution_count": 23,
   "metadata": {},
   "outputs": [
    {
     "data": {
      "text/plain": [
       "[DecisionTreeRegressor(random_state=42),\n",
       " RandomForestRegressor(random_state=42),\n",
       " GradientBoostingRegressor(random_state=42)]"
      ]
     },
     "execution_count": 23,
     "metadata": {},
     "output_type": "execute_result"
    }
   ],
   "source": [
    "from sklearn.ensemble import RandomForestRegressor, GradientBoostingRegressor\n",
    "\n",
    "estimators = [DecisionTreeRegressor(random_state=42),\n",
    "             RandomForestRegressor(random_state=42),\n",
    "             GradientBoostingRegressor(random_state=42)]\n",
    "estimators"
   ]
  },
  {
   "cell_type": "code",
   "execution_count": 32,
   "metadata": {},
   "outputs": [
    {
     "name": "stdout",
     "output_type": "stream",
     "text": [
      "Fitting 5 folds for each of 10 candidates, totalling 50 fits\n",
      "[CV] max_features=0.3530978601003717, max_depth=8 ....................\n",
      "[CV] ..... max_features=0.3530978601003717, max_depth=8, total=   0.0s\n",
      "[CV] max_features=0.3530978601003717, max_depth=8 ....................\n",
      "[CV] ..... max_features=0.3530978601003717, max_depth=8, total=   0.0s\n",
      "[CV] max_features=0.3530978601003717, max_depth=8 ....................\n",
      "[CV] ..... max_features=0.3530978601003717, max_depth=8, total=   0.0s\n",
      "[CV] max_features=0.3530978601003717, max_depth=8 ....................\n",
      "[CV] ..... max_features=0.3530978601003717, max_depth=8, total=   0.0s\n",
      "[CV] max_features=0.3530978601003717, max_depth=8 ....................\n",
      "[CV] ..... max_features=0.3530978601003717, max_depth=8, total=   0.0s\n",
      "[CV] max_features=0.3530978601003717, max_depth=29 ...................\n",
      "[CV] .... max_features=0.3530978601003717, max_depth=29, total=   0.0s\n",
      "[CV] max_features=0.3530978601003717, max_depth=29 ...................\n",
      "[CV] .... max_features=0.3530978601003717, max_depth=29, total=   0.0s\n",
      "[CV] max_features=0.3530978601003717, max_depth=29 ...................\n",
      "[CV] .... max_features=0.3530978601003717, max_depth=29, total=   0.0s\n",
      "[CV] max_features=0.3530978601003717, max_depth=29 ...................\n",
      "[CV] .... max_features=0.3530978601003717, max_depth=29, total=   0.0s\n",
      "[CV] max_features=0.3530978601003717, max_depth=29 ...................\n",
      "[CV] .... max_features=0.3530978601003717, max_depth=29, total=   0.0s\n",
      "[CV] max_features=0.5152665960733194, max_depth=16 ...................\n",
      "[CV] .... max_features=0.5152665960733194, max_depth=16, total=   0.0s\n",
      "[CV] max_features=0.5152665960733194, max_depth=16 ...................\n",
      "[CV] .... max_features=0.5152665960733194, max_depth=16, total=   0.0s\n",
      "[CV] max_features=0.5152665960733194, max_depth=16 ...................\n",
      "[CV] .... max_features=0.5152665960733194, max_depth=16, total=   0.0s\n",
      "[CV] max_features=0.5152665960733194, max_depth=16 ...................\n",
      "[CV] .... max_features=0.5152665960733194, max_depth=16, total=   0.0s\n",
      "[CV] max_features=0.5152665960733194, max_depth=16 ...................\n",
      "[CV] .... max_features=0.5152665960733194, max_depth=16, total=   0.0s\n"
     ]
    },
    {
     "name": "stderr",
     "output_type": "stream",
     "text": [
      "[Parallel(n_jobs=1)]: Using backend SequentialBackend with 1 concurrent workers.\n",
      "[Parallel(n_jobs=1)]: Done   1 out of   1 | elapsed:    0.0s remaining:    0.0s\n"
     ]
    },
    {
     "name": "stdout",
     "output_type": "stream",
     "text": [
      "[CV] max_features=0.6132223823038, max_depth=15 ......................\n",
      "[CV] ....... max_features=0.6132223823038, max_depth=15, total=   0.0s\n",
      "[CV] max_features=0.6132223823038, max_depth=15 ......................\n",
      "[CV] ....... max_features=0.6132223823038, max_depth=15, total=   0.0s\n",
      "[CV] max_features=0.6132223823038, max_depth=15 ......................\n",
      "[CV] ....... max_features=0.6132223823038, max_depth=15, total=   0.0s\n",
      "[CV] max_features=0.6132223823038, max_depth=15 ......................\n",
      "[CV] ....... max_features=0.6132223823038, max_depth=15, total=   0.0s\n",
      "[CV] max_features=0.6132223823038, max_depth=15 ......................\n",
      "[CV] ....... max_features=0.6132223823038, max_depth=15, total=   0.0s\n",
      "[CV] max_features=0.8378751029509344, max_depth=15 ...................\n",
      "[CV] .... max_features=0.8378751029509344, max_depth=15, total=   0.0s\n",
      "[CV] max_features=0.8378751029509344, max_depth=15 ...................\n",
      "[CV] .... max_features=0.8378751029509344, max_depth=15, total=   0.0s\n",
      "[CV] max_features=0.8378751029509344, max_depth=15 ...................\n",
      "[CV] .... max_features=0.8378751029509344, max_depth=15, total=   0.0s\n",
      "[CV] max_features=0.8378751029509344, max_depth=15 ...................\n",
      "[CV] .... max_features=0.8378751029509344, max_depth=15, total=   0.0s\n",
      "[CV] max_features=0.8378751029509344, max_depth=15 ...................\n",
      "[CV] .... max_features=0.8378751029509344, max_depth=15, total=   0.0s\n",
      "[CV] max_features=0.6861656355956594, max_depth=15 ...................\n",
      "[CV] .... max_features=0.6861656355956594, max_depth=15, total=   0.0s\n",
      "[CV] max_features=0.6861656355956594, max_depth=15 ...................\n",
      "[CV] .... max_features=0.6861656355956594, max_depth=15, total=   0.0s\n",
      "[CV] max_features=0.6861656355956594, max_depth=15 ...................\n",
      "[CV] .... max_features=0.6861656355956594, max_depth=15, total=   0.0s\n",
      "[CV] max_features=0.6861656355956594, max_depth=15 ...................\n",
      "[CV] .... max_features=0.6861656355956594, max_depth=15, total=   0.0s\n",
      "[CV] max_features=0.6861656355956594, max_depth=15 ...................\n",
      "[CV] .... max_features=0.6861656355956594, max_depth=15, total=   0.0s\n",
      "[CV] max_features=0.47349355769448537, max_depth=11 ..................\n",
      "[CV] ... max_features=0.47349355769448537, max_depth=11, total=   0.0s\n",
      "[CV] max_features=0.47349355769448537, max_depth=11 ..................\n",
      "[CV] ... max_features=0.47349355769448537, max_depth=11, total=   0.0s\n",
      "[CV] max_features=0.47349355769448537, max_depth=11 ..................\n",
      "[CV] ... max_features=0.47349355769448537, max_depth=11, total=   0.0s\n",
      "[CV] max_features=0.47349355769448537, max_depth=11 ..................\n",
      "[CV] ... max_features=0.47349355769448537, max_depth=11, total=   0.0s\n",
      "[CV] max_features=0.47349355769448537, max_depth=11 ..................\n",
      "[CV] ... max_features=0.47349355769448537, max_depth=11, total=   0.0s\n",
      "[CV] max_features=0.5152665960733194, max_depth=8 ....................\n",
      "[CV] ..... max_features=0.5152665960733194, max_depth=8, total=   0.0s\n",
      "[CV] max_features=0.5152665960733194, max_depth=8 ....................\n",
      "[CV] ..... max_features=0.5152665960733194, max_depth=8, total=   0.0s\n",
      "[CV] max_features=0.5152665960733194, max_depth=8 ....................\n",
      "[CV] ..... max_features=0.5152665960733194, max_depth=8, total=   0.0s\n",
      "[CV] max_features=0.5152665960733194, max_depth=8 ....................\n",
      "[CV] ..... max_features=0.5152665960733194, max_depth=8, total=   0.0s\n",
      "[CV] max_features=0.5152665960733194, max_depth=8 ....................\n",
      "[CV] ..... max_features=0.5152665960733194, max_depth=8, total=   0.0s\n",
      "[CV] max_features=0.5152665960733194, max_depth=15 ...................\n",
      "[CV] .... max_features=0.5152665960733194, max_depth=15, total=   0.0s\n",
      "[CV] max_features=0.5152665960733194, max_depth=15 ...................\n",
      "[CV] .... max_features=0.5152665960733194, max_depth=15, total=   0.0s\n",
      "[CV] max_features=0.5152665960733194, max_depth=15 ...................\n",
      "[CV] .... max_features=0.5152665960733194, max_depth=15, total=   0.0s\n",
      "[CV] max_features=0.5152665960733194, max_depth=15 ...................\n",
      "[CV] .... max_features=0.5152665960733194, max_depth=15, total=   0.0s\n",
      "[CV] max_features=0.5152665960733194, max_depth=15 ...................\n",
      "[CV] .... max_features=0.5152665960733194, max_depth=15, total=   0.0s\n",
      "[CV] max_features=0.5152665960733194, max_depth=19 ...................\n",
      "[CV] .... max_features=0.5152665960733194, max_depth=19, total=   0.0s\n",
      "[CV] max_features=0.5152665960733194, max_depth=19 ...................\n",
      "[CV] .... max_features=0.5152665960733194, max_depth=19, total=   0.0s\n",
      "[CV] max_features=0.5152665960733194, max_depth=19 ...................\n",
      "[CV] .... max_features=0.5152665960733194, max_depth=19, total=   0.0s\n",
      "[CV] max_features=0.5152665960733194, max_depth=19 ...................\n",
      "[CV] .... max_features=0.5152665960733194, max_depth=19, total=   0.0s\n",
      "[CV] max_features=0.5152665960733194, max_depth=19 ...................\n",
      "[CV] .... max_features=0.5152665960733194, max_depth=19, total=   0.0s\n",
      "Fitting 5 folds for each of 10 candidates, totalling 50 fits\n",
      "[CV] max_features=0.37574389386180773, max_depth=5 ...................\n"
     ]
    },
    {
     "name": "stderr",
     "output_type": "stream",
     "text": [
      "[Parallel(n_jobs=1)]: Done  50 out of  50 | elapsed:    0.6s finished\n",
      "[Parallel(n_jobs=1)]: Using backend SequentialBackend with 1 concurrent workers.\n"
     ]
    },
    {
     "name": "stdout",
     "output_type": "stream",
     "text": [
      "[CV] .... max_features=0.37574389386180773, max_depth=5, total=   0.3s\n",
      "[CV] max_features=0.37574389386180773, max_depth=5 ...................\n"
     ]
    },
    {
     "name": "stderr",
     "output_type": "stream",
     "text": [
      "[Parallel(n_jobs=1)]: Done   1 out of   1 | elapsed:    0.2s remaining:    0.0s\n"
     ]
    },
    {
     "name": "stdout",
     "output_type": "stream",
     "text": [
      "[CV] .... max_features=0.37574389386180773, max_depth=5, total=   0.3s\n",
      "[CV] max_features=0.37574389386180773, max_depth=5 ...................\n",
      "[CV] .... max_features=0.37574389386180773, max_depth=5, total=   0.3s\n",
      "[CV] max_features=0.37574389386180773, max_depth=5 ...................\n",
      "[CV] .... max_features=0.37574389386180773, max_depth=5, total=   0.3s\n",
      "[CV] max_features=0.37574389386180773, max_depth=5 ...................\n",
      "[CV] .... max_features=0.37574389386180773, max_depth=5, total=   0.3s\n",
      "[CV] max_features=0.37574389386180773, max_depth=6 ...................\n",
      "[CV] .... max_features=0.37574389386180773, max_depth=6, total=   0.3s\n",
      "[CV] max_features=0.37574389386180773, max_depth=6 ...................\n",
      "[CV] .... max_features=0.37574389386180773, max_depth=6, total=   0.3s\n",
      "[CV] max_features=0.37574389386180773, max_depth=6 ...................\n",
      "[CV] .... max_features=0.37574389386180773, max_depth=6, total=   0.3s\n",
      "[CV] max_features=0.37574389386180773, max_depth=6 ...................\n",
      "[CV] .... max_features=0.37574389386180773, max_depth=6, total=   0.3s\n",
      "[CV] max_features=0.37574389386180773, max_depth=6 ...................\n",
      "[CV] .... max_features=0.37574389386180773, max_depth=6, total=   0.3s\n",
      "[CV] max_features=0.6221652152320951, max_depth=10 ...................\n",
      "[CV] .... max_features=0.6221652152320951, max_depth=10, total=   0.5s\n",
      "[CV] max_features=0.6221652152320951, max_depth=10 ...................\n",
      "[CV] .... max_features=0.6221652152320951, max_depth=10, total=   0.5s\n",
      "[CV] max_features=0.6221652152320951, max_depth=10 ...................\n",
      "[CV] .... max_features=0.6221652152320951, max_depth=10, total=   0.5s\n",
      "[CV] max_features=0.6221652152320951, max_depth=10 ...................\n",
      "[CV] .... max_features=0.6221652152320951, max_depth=10, total=   0.5s\n",
      "[CV] max_features=0.6221652152320951, max_depth=10 ...................\n",
      "[CV] .... max_features=0.6221652152320951, max_depth=10, total=   0.5s\n",
      "[CV] max_features=0.506152474348068, max_depth=8 .....................\n",
      "[CV] ...... max_features=0.506152474348068, max_depth=8, total=   0.5s\n",
      "[CV] max_features=0.506152474348068, max_depth=8 .....................\n",
      "[CV] ...... max_features=0.506152474348068, max_depth=8, total=   0.4s\n",
      "[CV] max_features=0.506152474348068, max_depth=8 .....................\n",
      "[CV] ...... max_features=0.506152474348068, max_depth=8, total=   0.4s\n",
      "[CV] max_features=0.506152474348068, max_depth=8 .....................\n",
      "[CV] ...... max_features=0.506152474348068, max_depth=8, total=   0.4s\n",
      "[CV] max_features=0.506152474348068, max_depth=8 .....................\n",
      "[CV] ...... max_features=0.506152474348068, max_depth=8, total=   0.4s\n",
      "[CV] max_features=0.939722412780083, max_depth=8 .....................\n",
      "[CV] ...... max_features=0.939722412780083, max_depth=8, total=   0.6s\n",
      "[CV] max_features=0.939722412780083, max_depth=8 .....................\n",
      "[CV] ...... max_features=0.939722412780083, max_depth=8, total=   0.6s\n",
      "[CV] max_features=0.939722412780083, max_depth=8 .....................\n",
      "[CV] ...... max_features=0.939722412780083, max_depth=8, total=   0.6s\n",
      "[CV] max_features=0.939722412780083, max_depth=8 .....................\n",
      "[CV] ...... max_features=0.939722412780083, max_depth=8, total=   0.6s\n",
      "[CV] max_features=0.939722412780083, max_depth=8 .....................\n",
      "[CV] ...... max_features=0.939722412780083, max_depth=8, total=   0.6s\n",
      "[CV] max_features=0.539372389250004, max_depth=27 ....................\n",
      "[CV] ..... max_features=0.539372389250004, max_depth=27, total=   0.6s\n",
      "[CV] max_features=0.539372389250004, max_depth=27 ....................\n",
      "[CV] ..... max_features=0.539372389250004, max_depth=27, total=   0.7s\n",
      "[CV] max_features=0.539372389250004, max_depth=27 ....................\n",
      "[CV] ..... max_features=0.539372389250004, max_depth=27, total=   0.7s\n",
      "[CV] max_features=0.539372389250004, max_depth=27 ....................\n",
      "[CV] ..... max_features=0.539372389250004, max_depth=27, total=   0.7s\n",
      "[CV] max_features=0.539372389250004, max_depth=27 ....................\n",
      "[CV] ..... max_features=0.539372389250004, max_depth=27, total=   0.6s\n",
      "[CV] max_features=0.9115877711527665, max_depth=14 ...................\n",
      "[CV] .... max_features=0.9115877711527665, max_depth=14, total=   0.9s\n",
      "[CV] max_features=0.9115877711527665, max_depth=14 ...................\n",
      "[CV] .... max_features=0.9115877711527665, max_depth=14, total=   0.8s\n",
      "[CV] max_features=0.9115877711527665, max_depth=14 ...................\n",
      "[CV] .... max_features=0.9115877711527665, max_depth=14, total=   0.8s\n",
      "[CV] max_features=0.9115877711527665, max_depth=14 ...................\n",
      "[CV] .... max_features=0.9115877711527665, max_depth=14, total=   0.8s\n",
      "[CV] max_features=0.9115877711527665, max_depth=14 ...................\n",
      "[CV] .... max_features=0.9115877711527665, max_depth=14, total=   0.8s\n",
      "[CV] max_features=0.6221652152320951, max_depth=5 ....................\n",
      "[CV] ..... max_features=0.6221652152320951, max_depth=5, total=   0.3s\n",
      "[CV] max_features=0.6221652152320951, max_depth=5 ....................\n",
      "[CV] ..... max_features=0.6221652152320951, max_depth=5, total=   0.3s\n",
      "[CV] max_features=0.6221652152320951, max_depth=5 ....................\n",
      "[CV] ..... max_features=0.6221652152320951, max_depth=5, total=   0.3s\n",
      "[CV] max_features=0.6221652152320951, max_depth=5 ....................\n",
      "[CV] ..... max_features=0.6221652152320951, max_depth=5, total=   0.3s\n",
      "[CV] max_features=0.6221652152320951, max_depth=5 ....................\n",
      "[CV] ..... max_features=0.6221652152320951, max_depth=5, total=   0.3s\n",
      "[CV] max_features=0.6221652152320951, max_depth=11 ...................\n",
      "[CV] .... max_features=0.6221652152320951, max_depth=11, total=   0.6s\n",
      "[CV] max_features=0.6221652152320951, max_depth=11 ...................\n",
      "[CV] .... max_features=0.6221652152320951, max_depth=11, total=   0.6s\n",
      "[CV] max_features=0.6221652152320951, max_depth=11 ...................\n",
      "[CV] .... max_features=0.6221652152320951, max_depth=11, total=   0.6s\n",
      "[CV] max_features=0.6221652152320951, max_depth=11 ...................\n",
      "[CV] .... max_features=0.6221652152320951, max_depth=11, total=   0.6s\n",
      "[CV] max_features=0.6221652152320951, max_depth=11 ...................\n",
      "[CV] .... max_features=0.6221652152320951, max_depth=11, total=   0.6s\n",
      "[CV] max_features=0.6221652152320951, max_depth=16 ...................\n",
      "[CV] .... max_features=0.6221652152320951, max_depth=16, total=   0.7s\n",
      "[CV] max_features=0.6221652152320951, max_depth=16 ...................\n",
      "[CV] .... max_features=0.6221652152320951, max_depth=16, total=   0.7s\n",
      "[CV] max_features=0.6221652152320951, max_depth=16 ...................\n",
      "[CV] .... max_features=0.6221652152320951, max_depth=16, total=   0.8s\n",
      "[CV] max_features=0.6221652152320951, max_depth=16 ...................\n",
      "[CV] .... max_features=0.6221652152320951, max_depth=16, total=   0.7s\n",
      "[CV] max_features=0.6221652152320951, max_depth=16 ...................\n",
      "[CV] .... max_features=0.6221652152320951, max_depth=16, total=   0.8s\n"
     ]
    },
    {
     "name": "stderr",
     "output_type": "stream",
     "text": [
      "[Parallel(n_jobs=1)]: Done  50 out of  50 | elapsed:   26.2s finished\n"
     ]
    },
    {
     "name": "stdout",
     "output_type": "stream",
     "text": [
      "Fitting 5 folds for each of 10 candidates, totalling 50 fits\n",
      "[CV] max_features=0.9233468375588261, max_depth=26 ...................\n"
     ]
    },
    {
     "name": "stderr",
     "output_type": "stream",
     "text": [
      "[Parallel(n_jobs=1)]: Using backend SequentialBackend with 1 concurrent workers.\n"
     ]
    },
    {
     "name": "stdout",
     "output_type": "stream",
     "text": [
      "[CV] .... max_features=0.9233468375588261, max_depth=26, total=   1.4s\n",
      "[CV] max_features=0.9233468375588261, max_depth=26 ...................\n"
     ]
    },
    {
     "name": "stderr",
     "output_type": "stream",
     "text": [
      "[Parallel(n_jobs=1)]: Done   1 out of   1 | elapsed:    1.3s remaining:    0.0s\n"
     ]
    },
    {
     "name": "stdout",
     "output_type": "stream",
     "text": [
      "[CV] .... max_features=0.9233468375588261, max_depth=26, total=   1.3s\n",
      "[CV] max_features=0.9233468375588261, max_depth=26 ...................\n",
      "[CV] .... max_features=0.9233468375588261, max_depth=26, total=   1.4s\n",
      "[CV] max_features=0.9233468375588261, max_depth=26 ...................\n",
      "[CV] .... max_features=0.9233468375588261, max_depth=26, total=   1.3s\n",
      "[CV] max_features=0.9233468375588261, max_depth=26 ...................\n",
      "[CV] .... max_features=0.9233468375588261, max_depth=26, total=   1.3s\n",
      "[CV] max_features=0.9233468375588261, max_depth=21 ...................\n",
      "[CV] .... max_features=0.9233468375588261, max_depth=21, total=   1.3s\n",
      "[CV] max_features=0.9233468375588261, max_depth=21 ...................\n",
      "[CV] .... max_features=0.9233468375588261, max_depth=21, total=   1.2s\n",
      "[CV] max_features=0.9233468375588261, max_depth=21 ...................\n",
      "[CV] .... max_features=0.9233468375588261, max_depth=21, total=   1.3s\n",
      "[CV] max_features=0.9233468375588261, max_depth=21 ...................\n",
      "[CV] .... max_features=0.9233468375588261, max_depth=21, total=   1.3s\n",
      "[CV] max_features=0.9233468375588261, max_depth=21 ...................\n",
      "[CV] .... max_features=0.9233468375588261, max_depth=21, total=   1.6s\n",
      "[CV] max_features=0.6165339761383288, max_depth=17 ...................\n",
      "[CV] .... max_features=0.6165339761383288, max_depth=17, total=   1.2s\n",
      "[CV] max_features=0.6165339761383288, max_depth=17 ...................\n",
      "[CV] .... max_features=0.6165339761383288, max_depth=17, total=   1.2s\n",
      "[CV] max_features=0.6165339761383288, max_depth=17 ...................\n",
      "[CV] .... max_features=0.6165339761383288, max_depth=17, total=   1.2s\n",
      "[CV] max_features=0.6165339761383288, max_depth=17 ...................\n",
      "[CV] .... max_features=0.6165339761383288, max_depth=17, total=   1.3s\n",
      "[CV] max_features=0.6165339761383288, max_depth=17 ...................\n",
      "[CV] .... max_features=0.6165339761383288, max_depth=17, total=   1.1s\n",
      "[CV] max_features=0.7251417187174977, max_depth=21 ...................\n",
      "[CV] .... max_features=0.7251417187174977, max_depth=21, total=   1.2s\n",
      "[CV] max_features=0.7251417187174977, max_depth=21 ...................\n",
      "[CV] .... max_features=0.7251417187174977, max_depth=21, total=   1.1s\n",
      "[CV] max_features=0.7251417187174977, max_depth=21 ...................\n",
      "[CV] .... max_features=0.7251417187174977, max_depth=21, total=   1.2s\n",
      "[CV] max_features=0.7251417187174977, max_depth=21 ...................\n",
      "[CV] .... max_features=0.7251417187174977, max_depth=21, total=   1.2s\n",
      "[CV] max_features=0.7251417187174977, max_depth=21 ...................\n",
      "[CV] .... max_features=0.7251417187174977, max_depth=21, total=   1.1s\n",
      "[CV] max_features=0.3258118067975297, max_depth=21 ...................\n",
      "[CV] .... max_features=0.3258118067975297, max_depth=21, total=   0.6s\n",
      "[CV] max_features=0.3258118067975297, max_depth=21 ...................\n",
      "[CV] .... max_features=0.3258118067975297, max_depth=21, total=   0.7s\n",
      "[CV] max_features=0.3258118067975297, max_depth=21 ...................\n",
      "[CV] .... max_features=0.3258118067975297, max_depth=21, total=   0.7s\n",
      "[CV] max_features=0.3258118067975297, max_depth=21 ...................\n",
      "[CV] .... max_features=0.3258118067975297, max_depth=21, total=   0.6s\n",
      "[CV] max_features=0.3258118067975297, max_depth=21 ...................\n",
      "[CV] .... max_features=0.3258118067975297, max_depth=21, total=   0.7s\n",
      "[CV] max_features=0.6882644713157404, max_depth=10 ...................\n",
      "[CV] .... max_features=0.6882644713157404, max_depth=10, total=   0.9s\n",
      "[CV] max_features=0.6882644713157404, max_depth=10 ...................\n",
      "[CV] .... max_features=0.6882644713157404, max_depth=10, total=   0.8s\n",
      "[CV] max_features=0.6882644713157404, max_depth=10 ...................\n",
      "[CV] .... max_features=0.6882644713157404, max_depth=10, total=   0.8s\n",
      "[CV] max_features=0.6882644713157404, max_depth=10 ...................\n",
      "[CV] .... max_features=0.6882644713157404, max_depth=10, total=   0.7s\n",
      "[CV] max_features=0.6882644713157404, max_depth=10 ...................\n",
      "[CV] .... max_features=0.6882644713157404, max_depth=10, total=   0.7s\n",
      "[CV] max_features=0.39681510605271075, max_depth=25 ..................\n",
      "[CV] ... max_features=0.39681510605271075, max_depth=25, total=   0.7s\n",
      "[CV] max_features=0.39681510605271075, max_depth=25 ..................\n",
      "[CV] ... max_features=0.39681510605271075, max_depth=25, total=   0.7s\n",
      "[CV] max_features=0.39681510605271075, max_depth=25 ..................\n",
      "[CV] ... max_features=0.39681510605271075, max_depth=25, total=   0.7s\n",
      "[CV] max_features=0.39681510605271075, max_depth=25 ..................\n",
      "[CV] ... max_features=0.39681510605271075, max_depth=25, total=   0.7s\n",
      "[CV] max_features=0.39681510605271075, max_depth=25 ..................\n",
      "[CV] ... max_features=0.39681510605271075, max_depth=25, total=   0.7s\n",
      "[CV] max_features=0.6165339761383288, max_depth=26 ...................\n",
      "[CV] .... max_features=0.6165339761383288, max_depth=26, total=   1.3s\n",
      "[CV] max_features=0.6165339761383288, max_depth=26 ...................\n",
      "[CV] .... max_features=0.6165339761383288, max_depth=26, total=   2.2s\n",
      "[CV] max_features=0.6165339761383288, max_depth=26 ...................\n",
      "[CV] .... max_features=0.6165339761383288, max_depth=26, total=   1.8s\n",
      "[CV] max_features=0.6165339761383288, max_depth=26 ...................\n",
      "[CV] .... max_features=0.6165339761383288, max_depth=26, total=   1.8s\n",
      "[CV] max_features=0.6165339761383288, max_depth=26 ...................\n",
      "[CV] .... max_features=0.6165339761383288, max_depth=26, total=   1.4s\n",
      "[CV] max_features=0.6165339761383288, max_depth=26 ...................\n",
      "[CV] .... max_features=0.6165339761383288, max_depth=26, total=   1.5s\n",
      "[CV] max_features=0.6165339761383288, max_depth=26 ...................\n",
      "[CV] .... max_features=0.6165339761383288, max_depth=26, total=   1.5s\n",
      "[CV] max_features=0.6165339761383288, max_depth=26 ...................\n",
      "[CV] .... max_features=0.6165339761383288, max_depth=26, total=   1.4s\n",
      "[CV] max_features=0.6165339761383288, max_depth=26 ...................\n",
      "[CV] .... max_features=0.6165339761383288, max_depth=26, total=   1.4s\n",
      "[CV] max_features=0.6165339761383288, max_depth=26 ...................\n",
      "[CV] .... max_features=0.6165339761383288, max_depth=26, total=   1.3s\n",
      "[CV] max_features=0.6165339761383288, max_depth=23 ...................\n",
      "[CV] .... max_features=0.6165339761383288, max_depth=23, total=   1.6s\n",
      "[CV] max_features=0.6165339761383288, max_depth=23 ...................\n",
      "[CV] .... max_features=0.6165339761383288, max_depth=23, total=   2.0s\n",
      "[CV] max_features=0.6165339761383288, max_depth=23 ...................\n",
      "[CV] .... max_features=0.6165339761383288, max_depth=23, total=   1.5s\n",
      "[CV] max_features=0.6165339761383288, max_depth=23 ...................\n",
      "[CV] .... max_features=0.6165339761383288, max_depth=23, total=   1.3s\n",
      "[CV] max_features=0.6165339761383288, max_depth=23 ...................\n",
      "[CV] .... max_features=0.6165339761383288, max_depth=23, total=   1.3s\n"
     ]
    },
    {
     "name": "stderr",
     "output_type": "stream",
     "text": [
      "[Parallel(n_jobs=1)]: Done  50 out of  50 | elapsed:   59.5s finished\n"
     ]
    }
   ],
   "source": [
    "results = []\n",
    "for estimator in estimators:\n",
    "    result = []\n",
    "    max_depth = np.random.randint(5,30,10)\n",
    "    max_features = np.random.uniform(0.3,1.0,10)\n",
    "    param_distributions = {'max_depth':max_depth, 'max_features':max_features}\n",
    "    regressor = RandomizedSearchCV(estimator,\n",
    "                              param_distributions,\n",
    "                              n_iter=10,\n",
    "                              scoring=None,\n",
    "                              cv=5,\n",
    "                              verbose=2,\n",
    "                              random_state=42)\n",
    "    regressor.fit(X_train, y_train)\n",
    "    result.append(estimator.__class__.__name__)\n",
    "    result.append(regressor.best_params_)\n",
    "    result.append(regressor.best_estimator_)\n",
    "    result.append(regressor.best_score_)\n",
    "    result.append(regressor.cv_results_)\n",
    "    results.append(result)"
   ]
  },
  {
   "cell_type": "code",
   "execution_count": 34,
   "metadata": {},
   "outputs": [
    {
     "data": {
      "text/html": [
       "<div>\n",
       "<style scoped>\n",
       "    .dataframe tbody tr th:only-of-type {\n",
       "        vertical-align: middle;\n",
       "    }\n",
       "\n",
       "    .dataframe tbody tr th {\n",
       "        vertical-align: top;\n",
       "    }\n",
       "\n",
       "    .dataframe thead th {\n",
       "        text-align: right;\n",
       "    }\n",
       "</style>\n",
       "<table border=\"1\" class=\"dataframe\">\n",
       "  <thead>\n",
       "    <tr style=\"text-align: right;\">\n",
       "      <th></th>\n",
       "      <th>model</th>\n",
       "      <th>params</th>\n",
       "      <th>estimator</th>\n",
       "      <th>score</th>\n",
       "      <th>cv_result</th>\n",
       "    </tr>\n",
       "  </thead>\n",
       "  <tbody>\n",
       "    <tr>\n",
       "      <th>0</th>\n",
       "      <td>DecisionTreeRegressor</td>\n",
       "      <td>{'max_features': 0.5152665960733194, 'max_dept...</td>\n",
       "      <td>DecisionTreeRegressor(max_depth=15, max_featur...</td>\n",
       "      <td>0.116895</td>\n",
       "      <td>{'mean_fit_time': [0.006795930862426758, 0.008...</td>\n",
       "    </tr>\n",
       "    <tr>\n",
       "      <th>1</th>\n",
       "      <td>RandomForestRegressor</td>\n",
       "      <td>{'max_features': 0.506152474348068, 'max_depth...</td>\n",
       "      <td>(DecisionTreeRegressor(max_depth=8, max_featur...</td>\n",
       "      <td>0.511812</td>\n",
       "      <td>{'mean_fit_time': [0.2738311767578125, 0.29681...</td>\n",
       "    </tr>\n",
       "    <tr>\n",
       "      <th>2</th>\n",
       "      <td>GradientBoostingRegressor</td>\n",
       "      <td>{'max_features': 0.39681510605271075, 'max_dep...</td>\n",
       "      <td>([DecisionTreeRegressor(criterion='friedman_ms...</td>\n",
       "      <td>0.467267</td>\n",
       "      <td>{'mean_fit_time': [1.3443667411804199, 1.34456...</td>\n",
       "    </tr>\n",
       "  </tbody>\n",
       "</table>\n",
       "</div>"
      ],
      "text/plain": [
       "                       model  \\\n",
       "0      DecisionTreeRegressor   \n",
       "1      RandomForestRegressor   \n",
       "2  GradientBoostingRegressor   \n",
       "\n",
       "                                              params  \\\n",
       "0  {'max_features': 0.5152665960733194, 'max_dept...   \n",
       "1  {'max_features': 0.506152474348068, 'max_depth...   \n",
       "2  {'max_features': 0.39681510605271075, 'max_dep...   \n",
       "\n",
       "                                           estimator     score  \\\n",
       "0  DecisionTreeRegressor(max_depth=15, max_featur...  0.116895   \n",
       "1  (DecisionTreeRegressor(max_depth=8, max_featur...  0.511812   \n",
       "2  ([DecisionTreeRegressor(criterion='friedman_ms...  0.467267   \n",
       "\n",
       "                                           cv_result  \n",
       "0  {'mean_fit_time': [0.006795930862426758, 0.008...  \n",
       "1  {'mean_fit_time': [0.2738311767578125, 0.29681...  \n",
       "2  {'mean_fit_time': [1.3443667411804199, 1.34456...  "
      ]
     },
     "execution_count": 34,
     "metadata": {},
     "output_type": "execute_result"
    }
   ],
   "source": [
    "df_cv = pd.DataFrame(results)\n",
    "df_cv.columns = [\"model\", \"params\", \"estimator\", \"score\", \"cv_result\"]\n",
    "df_cv"
   ]
  },
  {
   "cell_type": "code",
   "execution_count": 35,
   "metadata": {},
   "outputs": [
    {
     "data": {
      "text/plain": [
       "RandomForestRegressor(max_depth=8, max_features=0.506152474348068,\n",
       "                      random_state=42)"
      ]
     },
     "execution_count": 35,
     "metadata": {},
     "output_type": "execute_result"
    }
   ],
   "source": [
    "best_estimator = df_cv.loc[1,'estimator']\n",
    "best_estimator"
   ]
  },
  {
   "cell_type": "code",
   "execution_count": 36,
   "metadata": {},
   "outputs": [
    {
     "data": {
      "text/plain": [
       "RandomForestRegressor(max_depth=8, max_features=0.506152474348068,\n",
       "                      random_state=42)"
      ]
     },
     "execution_count": 36,
     "metadata": {},
     "output_type": "execute_result"
    }
   ],
   "source": [
    "best_estimator.fit(X_train, y_train)"
   ]
  },
  {
   "cell_type": "code",
   "execution_count": 39,
   "metadata": {
    "scrolled": true
   },
   "outputs": [
    {
     "name": "stderr",
     "output_type": "stream",
     "text": [
      "[Parallel(n_jobs=1)]: Using backend SequentialBackend with 1 concurrent workers.\n",
      "[Parallel(n_jobs=1)]: Done   1 out of   1 | elapsed:    0.3s remaining:    0.0s\n",
      "[Parallel(n_jobs=1)]: Done   5 out of   5 | elapsed:    2.0s finished\n"
     ]
    },
    {
     "data": {
      "text/plain": [
       "array([ 4485.66704381,  9438.24397367, 12299.40172262,  4479.31204556,\n",
       "        9465.30801337])"
      ]
     },
     "execution_count": 39,
     "metadata": {},
     "output_type": "execute_result"
    }
   ],
   "source": [
    "from sklearn.model_selection import cross_val_predict\n",
    "\n",
    "y_predict = cross_val_predict(best_estimator, X_train, y_train, cv=5, verbose=2)\n",
    "y_predict[:5]"
   ]
  },
  {
   "cell_type": "code",
   "execution_count": 42,
   "metadata": {},
   "outputs": [
    {
     "data": {
      "text/plain": [
       "0.5336825328774203"
      ]
     },
     "execution_count": 42,
     "metadata": {},
     "output_type": "execute_result"
    }
   ],
   "source": [
    "from sklearn.metrics import r2_score\n",
    "r2_score(y_train, y_predict)"
   ]
  },
  {
   "cell_type": "code",
   "execution_count": 43,
   "metadata": {},
   "outputs": [
    {
     "data": {
      "text/plain": [
       "<matplotlib.axes._subplots.AxesSubplot at 0x132ee7d2f40>"
      ]
     },
     "execution_count": 43,
     "metadata": {},
     "output_type": "execute_result"
    },
    {
     "data": {
      "image/png": "[encoded data removed]",
      "text/plain": [
       "<Figure size 432x288 with 1 Axes>"
      ]
     },
     "metadata": {
      "needs_background": "light"
     },
     "output_type": "display_data"
    }
   ],
   "source": [
    "sns.regplot(y_train, y_predict)"
   ]
  },
  {
   "cell_type": "code",
   "execution_count": 44,
   "metadata": {},
   "outputs": [
    {
     "data": {
      "text/plain": [
       "<matplotlib.axes._subplots.AxesSubplot at 0x132fb58e640>"
      ]
     },
     "execution_count": 44,
     "metadata": {},
     "output_type": "execute_result"
    },
    {
     "data": {
      "image/png": "[encoded data removed]",
      "text/plain": [
       "<Figure size 432x288 with 1 Axes>"
      ]
     },
     "metadata": {
      "needs_background": "light"
     },
     "output_type": "display_data"
    }
   ],
   "source": [
    "sns.distplot(y_train, hist=False, label=\"train\")\n",
    "sns.distplot(y_predict, hist=False, label=\"predict\")"
   ]
  },
  {
   "cell_type": "code",
   "execution_count": 46,
   "metadata": {},
   "outputs": [
    {
     "data": {
      "text/plain": [
       "9867.238294192122"
      ]
     },
     "execution_count": 46,
     "metadata": {},
     "output_type": "execute_result"
    }
   ],
   "source": [
    "error = abs(y_train - y_predict)\n",
    "error.mean()"
   ]
  },
  {
   "cell_type": "code",
   "execution_count": 47,
   "metadata": {},
   "outputs": [
    {
     "data": {
      "text/plain": [
       "<matplotlib.axes._subplots.AxesSubplot at 0x132fb67fc70>"
      ]
     },
     "execution_count": 47,
     "metadata": {},
     "output_type": "execute_result"
    },
    {
     "data": {
      "image/png": "[encoded data removed]",
      "text/plain": [
       "<Figure size 432x288 with 1 Axes>"
      ]
     },
     "metadata": {
      "needs_background": "light"
     },
     "output_type": "display_data"
    }
   ],
   "source": [
    "sns.distplot(error)"
   ]
  },
  {
   "cell_type": "code",
   "execution_count": 48,
   "metadata": {},
   "outputs": [
    {
     "data": {
      "text/plain": [
       "count      1319.000000\n",
       "mean       9867.238294\n",
       "std       15633.627396\n",
       "min           2.318224\n",
       "25%        1484.038606\n",
       "50%        4328.738053\n",
       "75%       11751.224999\n",
       "max      160844.136393\n",
       "Name: 연봉, dtype: float64"
      ]
     },
     "execution_count": 48,
     "metadata": {},
     "output_type": "execute_result"
    }
   ],
   "source": [
    "error.describe()"
   ]
  },
  {
   "cell_type": "code",
   "execution_count": 58,
   "metadata": {},
   "outputs": [
    {
     "data": {
      "text/plain": [
       "<matplotlib.axes._subplots.AxesSubplot at 0x132fb7e3bb0>"
      ]
     },
     "execution_count": 58,
     "metadata": {},
     "output_type": "execute_result"
    },
    {
     "data": {
      "image/png": "[encoded data removed]",
      "text/plain": [
       "<Figure size 2880x2880 with 1 Axes>"
      ]
     },
     "metadata": {
      "needs_background": "light"
     },
     "output_type": "display_data"
    }
   ],
   "source": [
    "plt.figure(figsize=(40,40))\n",
    "sns.barplot(x=best_estimator.feature_importances_, y=feature_names)"
   ]
  },
  {
   "cell_type": "code",
   "execution_count": 81,
   "metadata": {},
   "outputs": [
    {
     "data": {
      "text/plain": [
       "<bound method DataFrame.count of        선수   고4\n",
       "295   김태균  7.0\n",
       "301   김태균  7.0\n",
       "618   손아섭  7.0\n",
       "864   이대호  7.0\n",
       "880   이범호  7.0\n",
       "975   이재원  7.0\n",
       "1052  이호준  7.0\n",
       "1332   최정  7.0\n",
       "1362  최진행  7.0\n",
       "1368  최형우  7.0\n",
       "1369  최형우  7.0\n",
       "1382  최희섭  7.0>"
      ]
     },
     "execution_count": 81,
     "metadata": {},
     "output_type": "execute_result"
    }
   ],
   "source": [
    "df['고4'].describe()\n",
    "df[df['고4']==7][['선수','고4']].count"
   ]
  },
  {
   "cell_type": "code",
   "execution_count": null,
   "metadata": {},
   "outputs": [],
   "source": []
  }
 ],
 "metadata": {
  "kernelspec": {
   "display_name": "Python 3",
   "language": "python",
   "name": "python3"
  },
  "language_info": {
   "codemirror_mode": {
    "name": "ipython",
    "version": 3
   },
   "file_extension": ".py",
   "mimetype": "text/x-python",
   "name": "python",
   "nbconvert_exporter": "python",
   "pygments_lexer": "ipython3",
   "version": "3.8.3"
  }
 },
 "nbformat": 4,
 "nbformat_minor": 4
}
